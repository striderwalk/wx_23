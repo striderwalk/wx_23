{
 "cells": [
  {
   "cell_type": "markdown",
   "id": "82f12207",
   "metadata": {},
   "source": [
    "## Selecting Synchrotron Extraction Energy"
   ]
  },
  {
   "cell_type": "markdown",
   "id": "a9c1421e",
   "metadata": {},
   "source": [
    "Arguments:\n",
    "- Files\n",
    "\n",
    "Returns:\n",
    "- Calibration coefficient"
   ]
  },
  {
   "cell_type": "markdown",
   "id": "316f6fb2",
   "metadata": {},
   "source": [
    "## Necessary Libraries"
   ]
  },
  {
   "cell_type": "code",
   "execution_count": 13,
   "id": "04018a00",
   "metadata": {},
   "outputs": [],
   "source": [
    "import glob\n",
    "import pandas as pd\n",
    "import random\n",
    "import paho.mqtt.client as mqtt\n",
    "import string\n",
    "import time\n",
    "import math\n",
    "import matplotlib.pyplot as plt\n",
    "import numpy as np\n",
    "from scipy.interpolate import interp1d, CubicSpline, lagrange"
   ]
  },
  {
   "cell_type": "code",
   "execution_count": 15,
   "id": "4f95a888",
   "metadata": {},
   "outputs": [
    {
     "name": "stdout",
     "output_type": "stream",
     "text": [
      "<scipy.interpolate._interpolate.interp1d object at 0x000002A55339F010>\n",
      "Enter the extraction energy: 70\n"
     ]
    },
    {
     "data": {
      "text/plain": [
       "(70.0, array([], dtype=float64), array([], dtype=float64))"
      ]
     },
     "execution_count": 15,
     "metadata": {},
     "output_type": "execute_result"
    }
   ],
   "source": [
    "def ExtractionEnergy():\n",
    "    extractionEnergy = float(input('Enter the extraction energy: '))\n",
    "    inpt_x_array = [70, 780] #initiated for the input above \n",
    "    y_array = [2.22E-13, 3.50E-11]#initiated for the input above \n",
    "    inpt_x_array.append(extractionEnergy)\n",
    "    x_new_inpt = np.arange(70, extractionEnergy, 0.1)\n",
    "    y_new_inpt = f(x_new_inpt)\n",
    "    return extractionEnergy, x_new_inpt, y_new_inpt\n",
    "\n",
    "def divided_diff(inpt_x_array, y_array): #function to calculate the divided differences table\n",
    "    n = len(y_array)\n",
    "    coef = np.zeros([n, n])\n",
    "    # the first column is y\n",
    "    coef[:,0] = y\n",
    "    \n",
    "    for j in range(1,n):\n",
    "        for i in range(n-j):\n",
    "            coef[i][j] = \\\n",
    "           (coef[i+1][j-1] - coef[i][j-1]) / (x[i+j]-x[i])\n",
    "    \n",
    "    return coef\n",
    "\n",
    "def newton_poly(coef, mstime, inpt_x_array): #evaluate the newton polynomial at x\n",
    "    n = len(mstime) - 1 \n",
    "    p = coef[n]\n",
    "    for k in range(1,n+1):\n",
    "        p = coef[n-k] + (inpt_x_array -mstime[n-k])*p\n",
    "    return p\n",
    "\n",
    "def calibration_curve_beta(data_points):\n",
    "    '''\n",
    "    takes the given data and interpolates it by the newton polynomial method\n",
    "    '''    \n",
    "    x = np.array([70, 172, 374, 617, 780])\n",
    "    y = np.array([2.22E-13, 2.59E-13, 4.31E-12, 1.60E-11, 3.50E-11])\n",
    "    a_s = divided_diff(x, y)[0, :]\n",
    "    x_new = np.linspace(70, 800, data_points) # to change number of datapoints change interval of x_new (third number)\n",
    "    return newton_poly(a_s, x, x_new)\n",
    "\n",
    "f = interp1d(x, y)\n",
    "ExtractionEnergy()\n",
    "\n",
    "\n",
    "#extractionEnergy = ExtractionEnergy()\n",
    "# get the divided difference coef\n",
    "#a_s = divided_diff(x, y)[0, :] ||| (breaks code, for some reason)\n",
    "#x_new_inpt = np.arange(70, extractionEnergy, 0.1)\n",
    "#y_new_inpt = f(x_new_inpt)\n",
    "#plt.figure(figsize = (12, 8))\n",
    "#plt.plot(x_new, y_new, 'g', label='Predicted Calibration Curve')\n",
    "#plt.plot(x_new_inpt, y_new_inpt, 'b', label='Calibration Curve')\n",
    "#plt.plot(x, y, 'ro')\n",
    "#plt.legend()\n",
    "#plt.grid()\n",
    "#plt.title('Modified Calibration Coefficient Graph')\n",
    "#plt.xlabel('Beam Energy [MeV]')\n",
    "#plt.ylabel('Calibration Coefficient [mVs/proton]')"
   ]
  },
  {
   "cell_type": "code",
   "execution_count": null,
   "id": "ef1d6128",
   "metadata": {},
   "outputs": [],
   "source": []
  }
 ],
 "metadata": {
  "kernelspec": {
   "display_name": "Python 3 (ipykernel)",
   "language": "python",
   "name": "python3"
  },
  "language_info": {
   "codemirror_mode": {
    "name": "ipython",
    "version": 3
   },
   "file_extension": ".py",
   "mimetype": "text/x-python",
   "name": "python",
   "nbconvert_exporter": "python",
   "pygments_lexer": "ipython3",
   "version": "3.10.9"
  }
 },
 "nbformat": 4,
 "nbformat_minor": 5
}
