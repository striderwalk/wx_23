{
 "cells": [
  {
   "cell_type": "code",
   "execution_count": 18,
   "id": "35b2b26a",
   "metadata": {},
   "outputs": [],
   "source": [
    "import glob\n",
    "import pandas as pd\n",
    "import random\n",
    "import paho.mqtt.client as mqtt\n",
    "import string\n",
    "import time\n",
    "import matplotlib.pyplot as plt\n",
    "import numpy as np\n",
    "import numpy.polynomial.polynomial as poly\n",
    "from scipy.interpolate import interp1d\n",
    "from scipy.interpolate import CubicSpline\n",
    "from scipy.interpolate import lagrange\n",
    "import os\n",
    "import timeit\n",
    "\n",
    "\n",
    "    "
   ]
  },
  {
   "cell_type": "code",
   "execution_count": 51,
   "id": "081be781",
   "metadata": {},
   "outputs": [],
   "source": [
    "import math\n",
    "\n",
    "def rmsValue(arr, n):\n",
    "    square = 0\n",
    "    mean = 0.0\n",
    "    root = 0.0\n",
    "     \n",
    "  \n",
    "    for i in arr:\n",
    "        square += (i**2)\n",
    "     \n",
    "    #Calculate Mean\n",
    "    mean = (square / len(arr))\n",
    "     \n",
    "    #Calculate Root\n",
    "    root = math.sqrt(mean)\n",
    "     \n",
    "    return root\n",
    "    \n",
    " \n",
    "#Driver code\n",
    "if __name__=='__main__':\n",
    "    n = len(arr)\n",
    "\n",
    "    "
   ]
  },
  {
   "cell_type": "code",
   "execution_count": 52,
   "id": "7be9888d",
   "metadata": {},
   "outputs": [],
   "source": [
    "os.chdir(\"C:\\\\Users\\\\lsp62132\\\\Desktop\\\\jupyter\")\n",
    "files = glob.glob(\"wx_stage_1_projects/01_projects/BLM_R5IM_Data/cycle\" + '/*.csv')\n",
    "selected_file = files[0]\n",
    "input_data = pd.read_csv(selected_file)\n",
    "dataframe = input_data.drop(columns = input_data.columns[0]).to_numpy()"
   ]
  },
  {
   "cell_type": "code",
   "execution_count": 58,
   "id": "872004e8",
   "metadata": {},
   "outputs": [
    {
     "name": "stdout",
     "output_type": "stream",
     "text": [
      "81400\n"
     ]
    },
    {
     "data": {
      "text/plain": [
       "<matplotlib.collections.PathCollection at 0x1c3c71970d0>"
      ]
     },
     "execution_count": 58,
     "metadata": {},
     "output_type": "execute_result"
    },
    {
     "data": {
      "image/png": "[encoded data removed]",
      "text/plain": [
       "<Figure size 640x480 with 1 Axes>"
      ]
     },
     "metadata": {},
     "output_type": "display_data"
    }
   ],
   "source": [
    "x = 1\n",
    "arr = []\n",
    "n = len(arr)\n",
    "for i in (dataframe[1:38]):\n",
    "    for g in (i):\n",
    "        arr.append(g)\n",
    "\n",
    "n = len(arr)\n",
    "print(n)\n",
    "\n",
    "\n",
    "plt.scatter(x,rmsValue(arr,n))"
   ]
  },
  {
   "cell_type": "code",
   "execution_count": null,
   "id": "d8bc1929",
   "metadata": {},
   "outputs": [],
   "source": []
  }
 ],
 "metadata": {
  "kernelspec": {
   "display_name": "Python 3 (ipykernel)",
   "language": "python",
   "name": "python3"
  },
  "language_info": {
   "codemirror_mode": {
    "name": "ipython",
    "version": 3
   },
   "file_extension": ".py",
   "mimetype": "text/x-python",
   "name": "python",
   "nbconvert_exporter": "python",
   "pygments_lexer": "ipython3",
   "version": "3.10.9"
  }
 },
 "nbformat": 4,
 "nbformat_minor": 5
}
