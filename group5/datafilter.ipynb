{
 "cells": [
  {
   "cell_type": "code",
   "execution_count": 3,
   "id": "17cd440e-e0f2-4b8b-a448-dbc0ce8b6948",
   "metadata": {},
   "outputs": [],
   "source": [
    "import glob\n",
    "import pandas as pd\n",
    "#import random\n",
    "#import paho.mqtt.client as mqtt\n",
    "import string\n",
    "import time\n",
    "import matplotlib.pyplot as plt\n",
    "import numpy as np\n",
    "import statistics #Group B - find mean\n",
    "from scipy.constants import c, m_p, e"
   ]
  },
  {
   "cell_type": "code",
   "execution_count": 4,
   "id": "ad7135d3-9abc-401a-b47c-5b09212394a7",
   "metadata": {},
   "outputs": [],
   "source": [
    "files = glob.glob(r\"C:\\Users\\ilw61967\\Desktop\\BLM_R5IM_Data\\cycle\" + '/*.csv')"
   ]
  },
  {
   "cell_type": "code",
   "execution_count": 5,
   "id": "d0e4aeba-da6d-478d-b63a-3fcd5eb9a2e3",
   "metadata": {
    "tags": []
   },
   "outputs": [],
   "source": [
    "selected_file = files[5]\n",
    "input_data = pd.read_csv(selected_file)\n",
    "array = input_data.drop(columns = input_data.columns[0]).to_numpy()"
   ]
  },
  {
   "cell_type": "code",
   "execution_count": 6,
   "id": "0eb38ebe-b77b-4e08-8a6b-aec0666cc769",
   "metadata": {
    "jupyter": {
     "source_hidden": true
    },
    "tags": []
   },
   "outputs": [],
   "source": [
    "from copy import deepcopy\n",
    "\n",
    "import numpy as np\n",
    "\n",
    "\n",
    "class DataFilter:\n",
    "  '''A object with configurable settings to filter input data.\n",
    "  '''\n",
    "\n",
    "  labels = [\"r0blm1\", \"r0blm3\", \"r0blm4\",\n",
    "            \"r1blm1\", \"r1blm2\", \"r1blm3\", \"r1blm4\",\n",
    "            \"r2blm1\", \"r2blm2\", \"r2blm3\", \"r2blm4\",\n",
    "            \"r3blm1\", \"r3blm2\", \"r3blm3\", \"r3blm4\",\n",
    "            \"r4blm1\", \"r4blm2\", \"r4blm3\", \"r4blm4\",\n",
    "            \"r5blm1\", \"r5blm2\", \"r5blm3\", \"r5blm4\",\n",
    "            \"r6blm1\", \"r6blm2\", \"r6blm3\", \"r6blm4\",\n",
    "            \"r7blm1\", \"r7blm2\", \"r7blm3\", \"r7blm4\",\n",
    "            \"r8blm1\", \"r8blm2\", \"r8blm3\", \"r8blm4\",\n",
    "            \"r9blm1\", \"r9blm2\", \"r9blm3\", \"r9blm4\",\n",
    "            \"r5im\"]\n",
    "  \n",
    "  \n",
    "  def __init__(self, *, select = True, invert = False, scale = 1, offset = 0, auto_offset = 0):\n",
    "    '''Creates a filterer object, with configurable settings to filter input data.\n",
    "    '''\n",
    "\n",
    "    self.data = []\n",
    "\n",
    "    template = {\n",
    "      \"select\": select,\n",
    "      \"invert\": invert,\n",
    "      \"scale\": scale,\n",
    "      \"offset\": offset,\n",
    "      \"auto_offset\": auto_offset,\n",
    "    }\n",
    "\n",
    "    self.settings = [deepcopy(template) for i in range(40)]\n",
    "\n",
    "  def _index_(self, label) -> int:\n",
    "    '''A minor inner method to convert the string name of a BLM to its corresponding index.'''\n",
    "\n",
    "    if isinstance(label, int):\n",
    "      return label\n",
    "    elif isinstance(label, str):\n",
    "      return DataFilter.labels.index(label)\n",
    "    else:\n",
    "      raise TypeError\n",
    "\n",
    "  \n",
    "  def invert(self, data: np.array) -> np.array:\n",
    "    out = -data\n",
    "    return out\n",
    "\n",
    "  def scale(self, data: np.array, factor: int | float) -> np.array:\n",
    "    out = data * factor\n",
    "    return out\n",
    "  \n",
    "  def offset(self, data: np.array, *, offset: int | float = 0, points: int = None) -> np.array:\n",
    "    '''Offsets data by either `offset`, or zeroes it using a given number of data points as reference for the zero-level.'''\n",
    "    \n",
    "    out = data\n",
    "\n",
    "    if isinstance(points, int):\n",
    "      if points > 0:\n",
    "        auto_offset = np.mean(data[:points])\n",
    "      elif points < 0:\n",
    "        auto_offset = np.mean(data[points:])\n",
    "      else:\n",
    "        raise ValueError(\"Invalid value for number of reference points\")\n",
    "      out = data - auto_offset\n",
    "\n",
    "    if offset != 0:\n",
    "      out = data + offset\n",
    "    \n",
    "    return out\n",
    "\n",
    "  \n",
    "  def set(self, setting: str, state, labels: list[str | int] = None) -> None:\n",
    "    '''Configures a particular filter `setting` for a number of BLMs.\n",
    "\n",
    "    `setting`: the filter setting to configure.\n",
    "    `state`: the value to set the setting to.\n",
    "    `labels`: the BLMs to apply the setting to.\n",
    "    '''\n",
    "\n",
    "    # if none specified, set for all\n",
    "    if labels is None:\n",
    "      for each in self.settings:\n",
    "        each[setting] = state\n",
    "    \n",
    "    else:\n",
    "      # single specified\n",
    "      if isinstance(labels, str) or isinstance(labels, int):\n",
    "        self.settings[self._index_(labels)][setting] = state\n",
    "\n",
    "      # multiple specified\n",
    "      else:\n",
    "        for each in labels:\n",
    "          self.settings[self._index_(each)][setting] = state\n",
    "\n",
    "  \n",
    "  def reset(self) -> None:\n",
    "    '''Resets filters to their default settings.'''\n",
    "\n",
    "    self.settings = [{\n",
    "      \"select\": True,\n",
    "      \"invert\": False,\n",
    "      \"scale\": 1,\n",
    "      \"offset\": 0,\n",
    "      \"auto_offset\": 0\n",
    "    }] * 40\n",
    "\n",
    "  \n",
    "  def apply(self, data: np.array) -> np.array:\n",
    "    '''Filters `data` according to the configured settings.'''\n",
    "    \n",
    "    self.data = data\n",
    "  \n",
    "    for i, each in enumerate(self.settings):\n",
    "      # skip if not selected\n",
    "      if not each[\"select\"]:\n",
    "        continue\n",
    "\n",
    "      self.data[i] = data[i]\n",
    "\n",
    "      if each[\"invert\"]:\n",
    "        self.data[i] = self.invert(self.data[i])\n",
    "\n",
    "      if each[\"scale\"] != 1:\n",
    "        self.data[i] = self.scale(self.data[i], each[\"scale\"])\n",
    "\n",
    "      if each[\"offset\"] != 0:\n",
    "        self.data[i] = self.offset(self.data[i], offset = each[\"offset\"])\n",
    "\n",
    "      if each[\"auto_offset\"] != 0:\n",
    "        self.data[i] = self.offset(self.data[i], points = each[\"auto_offset\"])\n",
    "\n",
    "    return [each for i, each in enumerate(self.data) if self.settings[i][\"select\"]]\n"
   ]
  },
  {
   "cell_type": "code",
   "execution_count": 7,
   "id": "f58acecc-1754-407d-bd17-ab2812be706b",
   "metadata": {
    "tags": []
   },
   "outputs": [],
   "source": [
    "def offset_y_data(data, offset = None, n = None, SpecialPoint = None):\n",
    "    '''Offsets data in y axis by designated value.\n",
    "    '''\n",
    "\n",
    "    out = data\n",
    "\n",
    "    if offset != None:\n",
    "        out = data + offset\n",
    "    if SpecialPoint != None:\n",
    "        out = data - SpecialPoint\n",
    "        return out\n",
    "\n",
    "    elif isinstance(n, int):\n",
    "        if n > 0:\n",
    "            offset = np.mean(data[:n])\n",
    "        elif n < 0:\n",
    "            offset = np.mean(data[n:])\n",
    "        else:\n",
    "            raise ValueError(\"Invalid value for n\")\n",
    "        out = data - offset\n",
    "    \n",
    "    return out\n"
   ]
  },
  {
   "cell_type": "code",
   "execution_count": 11,
   "id": "fca9dedf-3103-4eb3-89d0-802ce929dc6a",
   "metadata": {
    "tags": []
   },
   "outputs": [],
   "source": [
    "def cleanData(array): \n",
    "    newArray = []\n",
    "    filterer = DataFilter()\n",
    "    filterer.reset\n",
    "    array = filterer.apply(array)\n",
    "    filterer.set(\"invert\", True, \"r5im\")\n",
    "    array = filterer.apply(array)\n",
    "    \n",
    "    for i in array:\n",
    "        offsetData = offset_y_data(i, SpecialPoint = np.min(i))\n",
    "        newArray.append(offsetData)\n",
    "        \n",
    "    return newArray    "
   ]
  },
  {
   "cell_type": "code",
   "execution_count": 15,
   "id": "62ff6bcb-9670-4f6e-b339-0e93abe49bc7",
   "metadata": {},
   "outputs": [
    {
     "data": {
      "image/png": "[encoded data removed]",
      "text/plain": [
       "<Figure size 640x480 with 1 Axes>"
      ]
     },
     "metadata": {},
     "output_type": "display_data"
    }
   ],
   "source": [
    "x_data = np.linspace(-0.5,10.5,2200)\n",
    "for i in cleanData(array):\n",
    "    plt.plot(x_data, i)"
   ]
  },
  {
   "cell_type": "code",
   "execution_count": 14,
   "id": "61f455b7-d8a0-4ba2-9e31-76def5d625f2",
   "metadata": {},
   "outputs": [
    {
     "data": {
      "text/plain": [
       "(40, 2200)"
      ]
     },
     "execution_count": 14,
     "metadata": {},
     "output_type": "execute_result"
    }
   ],
   "source": [
    "np.shape(cleanData(array))"
   ]
  },
  {
   "cell_type": "code",
   "execution_count": null,
   "id": "b021b14a-ccee-4ae0-8267-9efd97d39e5a",
   "metadata": {},
   "outputs": [],
   "source": []
  },
  {
   "cell_type": "code",
   "execution_count": null,
   "id": "d1811a69-4ad1-4fda-b67e-8bcbeab9c007",
   "metadata": {},
   "outputs": [],
   "source": []
  }
 ],
 "metadata": {
  "kernelspec": {
   "display_name": "Python 3 (ipykernel)",
   "language": "python",
   "name": "python3"
  },
  "language_info": {
   "codemirror_mode": {
    "name": "ipython",
    "version": 3
   },
   "file_extension": ".py",
   "mimetype": "text/x-python",
   "name": "python",
   "nbconvert_exporter": "python",
   "pygments_lexer": "ipython3",
   "version": "3.10.9"
  }
 },
 "nbformat": 4,
 "nbformat_minor": 5
}
