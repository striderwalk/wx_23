{
 "cells": [
  {
   "cell_type": "code",
   "execution_count": 16,
   "id": "b5989cff-7fa1-4ea4-b8da-4301c03e7725",
   "metadata": {},
   "outputs": [],
   "source": [
    "def graphPadding(array): \n",
    "    if np.min(array) < 0: \n",
    "        minimum = 0 - (1.1*(abs(np.min(array))))\n",
    "    if np.max(array) < 0: \n",
    "        maximum = np.max(array) + 0.1*(abs(np.max(array)))\n",
    "    else: \n",
    "        minimum = (np.min(array) - 0.1*(np.min(array)))\n",
    "        maximum = 1.1*(np.max(array)) \n",
    "    return (minimum, maximum)"
   ]
  }
 ],
 "metadata": {
  "kernelspec": {
   "display_name": "Python 3 (ipykernel)",
   "language": "python",
   "name": "python3"
  },
  "language_info": {
   "codemirror_mode": {
    "name": "ipython",
    "version": 3
   },
   "file_extension": ".py",
   "mimetype": "text/x-python",
   "name": "python",
   "nbconvert_exporter": "python",
   "pygments_lexer": "ipython3",
   "version": "3.10.9"
  }
 },
 "nbformat": 4,
 "nbformat_minor": 5
}
