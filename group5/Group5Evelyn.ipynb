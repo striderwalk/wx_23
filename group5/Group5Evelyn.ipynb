{
 "cells": [
  {
   "cell_type": "code",
   "execution_count": 1,
   "id": "baa6ea71-5da4-4602-b4c5-dfc95107bcfe",
   "metadata": {
    "tags": []
   },
   "outputs": [],
   "source": [
    "import glob\n",
    "import pandas as pd\n",
    "#import random\n",
    "#import paho.mqtt.client as mqtt\n",
    "import string\n",
    "import time\n",
    "import matplotlib.pyplot as plt\n",
    "import numpy as np\n",
    "import statistics #Group B - find mean\n",
    "from scipy.constants import c, m_p, e"
   ]
  },
  {
   "cell_type": "code",
   "execution_count": 2,
   "id": "227e8d08-8fb4-40b9-ad4a-f4247596f91e",
   "metadata": {
    "tags": []
   },
   "outputs": [],
   "source": [
    "files = glob.glob(r\"C:\\Users\\ilw61967\\Desktop\\BLM_R5IM_Data\\cycle\" + '/*.csv')"
   ]
  },
  {
   "cell_type": "code",
   "execution_count": 3,
   "id": "cbf541cb-70c6-4256-81b3-7c3565e756e0",
   "metadata": {
    "tags": []
   },
   "outputs": [
    {
     "name": "stdout",
     "output_type": "stream",
     "text": [
      "[[-4.99939013e+00 -4.99939013e+00 -4.99939013e+00 ... -4.99939013e+00\n",
      "  -4.99939013e+00 -4.99939013e+00]\n",
      " [-4.87999991e-03 -4.26999992e-03 -4.26999992e-03 ... -6.09999988e-03\n",
      "  -3.65999993e-03 -4.26999992e-03]\n",
      " [-1.21999998e-03 -6.09999988e-04 -6.09999988e-04 ...  1.21999998e-03\n",
      "   4.87999991e-03  4.26999992e-03]\n",
      " ...\n",
      " [ 1.82999996e-03  1.21999998e-03  4.26999992e-03 ... -1.21999998e-03\n",
      "   2.43999995e-03  1.21999998e-03]\n",
      " [-3.04999994e-03 -1.82999996e-03 -1.21999998e-03 ...  1.21999998e-03\n",
      "  -2.43999995e-03  6.09999988e-04]\n",
      " [ 3.53999995e-02  3.60100009e-02  3.66199985e-02 ...  2.31899992e-02\n",
      "   2.25799996e-02  2.25799996e-02]]\n"
     ]
    }
   ],
   "source": [
    "selected_file = files[5]\n",
    "input_data = pd.read_csv(selected_file)\n",
    "array = input_data.drop(columns = input_data.columns[0]).to_numpy()\n",
    "print(array)"
   ]
  },
  {
   "cell_type": "markdown",
   "id": "d5b78aa5-2039-4d42-87e3-ede02b8cb55b",
   "metadata": {},
   "source": [
    "Group 1A data filtering class"
   ]
  },
  {
   "cell_type": "code",
   "execution_count": 4,
   "id": "415513e8-ca62-429d-9200-7d728e787a42",
   "metadata": {
    "tags": []
   },
   "outputs": [],
   "source": [
    "from copy import deepcopy\n",
    "\n",
    "import numpy as np\n",
    "\n",
    "\n",
    "class DataFilter:\n",
    "  '''A object with configurable settings to filter input data.\n",
    "  '''\n",
    "\n",
    "  labels = [\"r0blm1\", \"r0blm3\", \"r0blm4\",\n",
    "            \"r1blm1\", \"r1blm2\", \"r1blm3\", \"r1blm4\",\n",
    "            \"r2blm1\", \"r2blm2\", \"r2blm3\", \"r2blm4\",\n",
    "            \"r3blm1\", \"r3blm2\", \"r3blm3\", \"r3blm4\",\n",
    "            \"r4blm1\", \"r4blm2\", \"r4blm3\", \"r4blm4\",\n",
    "            \"r5blm1\", \"r5blm2\", \"r5blm3\", \"r5blm4\",\n",
    "            \"r6blm1\", \"r6blm2\", \"r6blm3\", \"r6blm4\",\n",
    "            \"r7blm1\", \"r7blm2\", \"r7blm3\", \"r7blm4\",\n",
    "            \"r8blm1\", \"r8blm2\", \"r8blm3\", \"r8blm4\",\n",
    "            \"r9blm1\", \"r9blm2\", \"r9blm3\", \"r9blm4\",\n",
    "            \"r5im\"]\n",
    "  \n",
    "  \n",
    "  def __init__(self, *, select = True, invert = False, scale = 1, offset = 0, auto_offset = 0):\n",
    "    '''Creates a filterer object, with configurable settings to filter input data.\n",
    "    '''\n",
    "\n",
    "    self.data = []\n",
    "\n",
    "    template = {\n",
    "      \"select\": select,\n",
    "      \"invert\": invert,\n",
    "      \"scale\": scale,\n",
    "      \"offset\": offset,\n",
    "      \"auto_offset\": auto_offset,\n",
    "    }\n",
    "\n",
    "    self.settings = [deepcopy(template) for i in range(40)]\n",
    "\n",
    "  def _index_(self, label) -> int:\n",
    "    '''A minor inner method to convert the string name of a BLM to its corresponding index.'''\n",
    "\n",
    "    if isinstance(label, int):\n",
    "      return label\n",
    "    elif isinstance(label, str):\n",
    "      return DataFilter.labels.index(label)\n",
    "    else:\n",
    "      raise TypeError\n",
    "\n",
    "  \n",
    "  def invert(self, data: np.array) -> np.array:\n",
    "    out = -data\n",
    "    return out\n",
    "\n",
    "  def scale(self, data: np.array, factor: int | float) -> np.array:\n",
    "    out = data * factor\n",
    "    return out\n",
    "  \n",
    "  def offset(self, data: np.array, *, offset: int | float = 0, points: int = None) -> np.array:\n",
    "    '''Offsets data by either `offset`, or zeroes it using a given number of data points as reference for the zero-level.'''\n",
    "    \n",
    "    out = data\n",
    "\n",
    "    if isinstance(points, int):\n",
    "      if points > 0:\n",
    "        auto_offset = np.mean(data[:points])\n",
    "      elif points < 0:\n",
    "        auto_offset = np.mean(data[points:])\n",
    "      else:\n",
    "        raise ValueError(\"Invalid value for number of reference points\")\n",
    "      out = data - auto_offset\n",
    "\n",
    "    if offset != 0:\n",
    "      out = data + offset\n",
    "    \n",
    "    return out\n",
    "\n",
    "  \n",
    "  def set(self, setting: str, state, labels: list[str | int] = None) -> None:\n",
    "    '''Configures a particular filter `setting` for a number of BLMs.\n",
    "\n",
    "    `setting`: the filter setting to configure.\n",
    "    `state`: the value to set the setting to.\n",
    "    `labels`: the BLMs to apply the setting to.\n",
    "    '''\n",
    "\n",
    "    # if none specified, set for all\n",
    "    if labels is None:\n",
    "      for each in self.settings:\n",
    "        each[setting] = state\n",
    "    \n",
    "    else:\n",
    "      # single specified\n",
    "      if isinstance(labels, str) or isinstance(labels, int):\n",
    "        self.settings[self._index_(labels)][setting] = state\n",
    "\n",
    "      # multiple specified\n",
    "      else:\n",
    "        for each in labels:\n",
    "          self.settings[self._index_(each)][setting] = state\n",
    "\n",
    "  \n",
    "  def reset(self) -> None:\n",
    "    '''Resets filters to their default settings.'''\n",
    "\n",
    "    self.settings = [{\n",
    "      \"select\": True,\n",
    "      \"invert\": False,\n",
    "      \"scale\": 1,\n",
    "      \"offset\": 0,\n",
    "      \"auto_offset\": 0\n",
    "    }] * 40\n",
    "\n",
    "  \n",
    "  def apply(self, data: np.array) -> np.array:\n",
    "    '''Filters `data` according to the configured settings.'''\n",
    "    \n",
    "    self.data = data\n",
    "  \n",
    "    for i, each in enumerate(self.settings):\n",
    "      # skip if not selected\n",
    "      if not each[\"select\"]:\n",
    "        continue\n",
    "\n",
    "      self.data[i] = data[i]\n",
    "\n",
    "      if each[\"invert\"]:\n",
    "        self.data[i] = self.invert(self.data[i])\n",
    "\n",
    "      if each[\"scale\"] != 1:\n",
    "        self.data[i] = self.scale(self.data[i], each[\"scale\"])\n",
    "\n",
    "      if each[\"offset\"] != 0:\n",
    "        self.data[i] = self.offset(self.data[i], offset = each[\"offset\"])\n",
    "\n",
    "      if each[\"auto_offset\"] != 0:\n",
    "        self.data[i] = self.offset(self.data[i], points = each[\"auto_offset\"])\n",
    "\n",
    "    return [each for i, each in enumerate(self.data) if self.settings[i][\"select\"]]\n"
   ]
  },
  {
   "cell_type": "code",
   "execution_count": 5,
   "id": "8769296a-69b6-4f78-a9d7-2bc0f3f27aae",
   "metadata": {
    "tags": []
   },
   "outputs": [],
   "source": [
    "def offset_y_data(data, offset = None, n = None, SpecialPoint = None):\n",
    "    '''Offsets data in y axis by designated value.\n",
    "    '''\n",
    "\n",
    "    out = data\n",
    "\n",
    "    if offset != None:\n",
    "        out = data + offset\n",
    "    if SpecialPoint != None:\n",
    "        out = data - SpecialPoint\n",
    "        return out\n",
    "\n",
    "    elif isinstance(n, int):\n",
    "        if n > 0:\n",
    "            offset = np.mean(data[:n])\n",
    "        elif n < 0:\n",
    "            offset = np.mean(data[n:])\n",
    "        else:\n",
    "            raise ValueError(\"Invalid value for n\")\n",
    "        out = data - offset\n",
    "    \n",
    "    return out\n"
   ]
  },
  {
   "cell_type": "markdown",
   "id": "39d59ae7-8a13-4e9e-92d1-110b1f91dcf3",
   "metadata": {},
   "source": [
    "Sum of all BLMs minus R0BLM1 and R5IM"
   ]
  },
  {
   "cell_type": "code",
   "execution_count": 6,
   "id": "149693a9-53c3-4e3c-9fd6-5fcedb7f043f",
   "metadata": {
    "jupyter": {
     "source_hidden": true
    },
    "tags": []
   },
   "outputs": [
    {
     "ename": "NameError",
     "evalue": "name 'filterer' is not defined",
     "output_type": "error",
     "traceback": [
      "\u001b[1;31m---------------------------------------------------------------------------\u001b[0m",
      "\u001b[1;31mNameError\u001b[0m                                 Traceback (most recent call last)",
      "Cell \u001b[1;32mIn[6], line 1\u001b[0m\n\u001b[1;32m----> 1\u001b[0m \u001b[43mfilterer\u001b[49m\u001b[38;5;241m.\u001b[39mset(\u001b[38;5;124m\"\u001b[39m\u001b[38;5;124mselect\u001b[39m\u001b[38;5;124m\"\u001b[39m, \u001b[38;5;28;01mFalse\u001b[39;00m, [\u001b[38;5;124m\"\u001b[39m\u001b[38;5;124mr0blm1\u001b[39m\u001b[38;5;124m\"\u001b[39m,\u001b[38;5;124m\"\u001b[39m\u001b[38;5;124mr5im\u001b[39m\u001b[38;5;124m\"\u001b[39m]) \u001b[38;5;66;03m#removes r0blm1 and r5im from the array\u001b[39;00m\n\u001b[0;32m      2\u001b[0m filteredArray \u001b[38;5;241m=\u001b[39m filterer\u001b[38;5;241m.\u001b[39mapply(array)\n",
      "\u001b[1;31mNameError\u001b[0m: name 'filterer' is not defined"
     ]
    }
   ],
   "source": [
    "filterer.set(\"select\", False, [\"r0blm1\",\"r5im\"]) #removes r0blm1 and r5im from the array\n",
    "filteredArray = filterer.apply(array)"
   ]
  },
  {
   "cell_type": "code",
   "execution_count": null,
   "id": "405538cb-5fce-4051-b956-cdc8cfe79218",
   "metadata": {
    "jupyter": {
     "source_hidden": true
    },
    "tags": []
   },
   "outputs": [],
   "source": [
    "result = np.sum(filteredArray, 0) #returns list of 2200 values\n",
    "print(result)"
   ]
  },
  {
   "cell_type": "code",
   "execution_count": 7,
   "id": "4068820f-52e7-4b5f-8203-85f080fd63e4",
   "metadata": {},
   "outputs": [
    {
     "name": "stdout",
     "output_type": "stream",
     "text": [
      "[-0.10067 -0.07198 -0.061   ... -0.09763 -0.07689 -0.08726]\n"
     ]
    }
   ],
   "source": [
    "def sumBLMs(array): \n",
    "    filterer = DataFilter()\n",
    "    filterer.set(\"select\", False, [\"r0blm1\",\"r5im\"]) #removes r0blm1 and r5im from the array\n",
    "    filteredArray = filterer.apply(array)\n",
    "    result = np.sum(filteredArray, 0)\n",
    "    return result\n",
    "\n",
    "print(sumBLMs(array))"
   ]
  },
  {
   "cell_type": "markdown",
   "id": "87b4e031-bbcf-4834-a230-37a97910d26b",
   "metadata": {},
   "source": [
    "Sum of all BLMs minus R0BLM1 and R5IM and superperiods 1 and 2"
   ]
  },
  {
   "cell_type": "code",
   "execution_count": 8,
   "id": "d3ff625f-6a7a-4f32-8d06-6f830cf9b5d2",
   "metadata": {
    "jupyter": {
     "source_hidden": true
    },
    "tags": []
   },
   "outputs": [
    {
     "ename": "NameError",
     "evalue": "name 'filterer' is not defined",
     "output_type": "error",
     "traceback": [
      "\u001b[1;31m---------------------------------------------------------------------------\u001b[0m",
      "\u001b[1;31mNameError\u001b[0m                                 Traceback (most recent call last)",
      "Cell \u001b[1;32mIn[8], line 1\u001b[0m\n\u001b[1;32m----> 1\u001b[0m \u001b[43mfilterer\u001b[49m\u001b[38;5;241m.\u001b[39mset(\u001b[38;5;124m\"\u001b[39m\u001b[38;5;124mselect\u001b[39m\u001b[38;5;124m\"\u001b[39m, \u001b[38;5;28;01mFalse\u001b[39;00m, [\u001b[38;5;124m\"\u001b[39m\u001b[38;5;124mr0blm1\u001b[39m\u001b[38;5;124m\"\u001b[39m,\u001b[38;5;124m\"\u001b[39m\u001b[38;5;124mr5im\u001b[39m\u001b[38;5;124m\"\u001b[39m]) \u001b[38;5;66;03m#removes r0blm1 and r5im from the array\u001b[39;00m\n\u001b[0;32m      2\u001b[0m filteredArray \u001b[38;5;241m=\u001b[39m filterer\u001b[38;5;241m.\u001b[39mapply(array)\n",
      "\u001b[1;31mNameError\u001b[0m: name 'filterer' is not defined"
     ]
    }
   ],
   "source": [
    "filterer.set(\"select\", False, [\"r0blm1\",\"r5im\"]) #removes r0blm1 and r5im from the array\n",
    "filteredArray = filterer.apply(array)"
   ]
  },
  {
   "cell_type": "code",
   "execution_count": 9,
   "id": "7e79561f-d161-4996-aca7-eb99ae2bee2f",
   "metadata": {
    "jupyter": {
     "source_hidden": true
    },
    "tags": []
   },
   "outputs": [
    {
     "ename": "NameError",
     "evalue": "name 'filterer' is not defined",
     "output_type": "error",
     "traceback": [
      "\u001b[1;31m---------------------------------------------------------------------------\u001b[0m",
      "\u001b[1;31mNameError\u001b[0m                                 Traceback (most recent call last)",
      "Cell \u001b[1;32mIn[9], line 1\u001b[0m\n\u001b[1;32m----> 1\u001b[0m \u001b[43mfilterer\u001b[49m\u001b[38;5;241m.\u001b[39mset(\u001b[38;5;124m\"\u001b[39m\u001b[38;5;124mselect\u001b[39m\u001b[38;5;124m\"\u001b[39m, \u001b[38;5;28;01mFalse\u001b[39;00m, [\u001b[38;5;124m\"\u001b[39m\u001b[38;5;124mr1blm1\u001b[39m\u001b[38;5;124m\"\u001b[39m,\u001b[38;5;124m\"\u001b[39m\u001b[38;5;124mr1blm2\u001b[39m\u001b[38;5;124m\"\u001b[39m,\u001b[38;5;124m\"\u001b[39m\u001b[38;5;124mr1blm3\u001b[39m\u001b[38;5;124m\"\u001b[39m,\u001b[38;5;124m\"\u001b[39m\u001b[38;5;124mr1blm4\u001b[39m\u001b[38;5;124m\"\u001b[39m,\u001b[38;5;124m\"\u001b[39m\u001b[38;5;124mr2blm1\u001b[39m\u001b[38;5;124m\"\u001b[39m,\u001b[38;5;124m\"\u001b[39m\u001b[38;5;124mr2blm2\u001b[39m\u001b[38;5;124m\"\u001b[39m,\u001b[38;5;124m\"\u001b[39m\u001b[38;5;124mr2blm3\u001b[39m\u001b[38;5;124m\"\u001b[39m,\u001b[38;5;124m\"\u001b[39m\u001b[38;5;124mr2blm4\u001b[39m\u001b[38;5;124m\"\u001b[39m])\n\u001b[0;32m      2\u001b[0m filteredArray \u001b[38;5;241m=\u001b[39m filterer\u001b[38;5;241m.\u001b[39mapply(array)\n",
      "\u001b[1;31mNameError\u001b[0m: name 'filterer' is not defined"
     ]
    }
   ],
   "source": [
    "filterer.set(\"select\", False, [\"r1blm1\",\"r1blm2\",\"r1blm3\",\"r1blm4\",\"r2blm1\",\"r2blm2\",\"r2blm3\",\"r2blm4\"])\n",
    "filteredArray = filterer.apply(array) #removes r1 and r2 from the array"
   ]
  },
  {
   "cell_type": "code",
   "execution_count": 10,
   "id": "b3d220cb-5419-43cc-ac2d-3eddebeea550",
   "metadata": {
    "jupyter": {
     "source_hidden": true
    },
    "tags": []
   },
   "outputs": [
    {
     "ename": "NameError",
     "evalue": "name 'filteredArray' is not defined",
     "output_type": "error",
     "traceback": [
      "\u001b[1;31m---------------------------------------------------------------------------\u001b[0m",
      "\u001b[1;31mNameError\u001b[0m                                 Traceback (most recent call last)",
      "Cell \u001b[1;32mIn[10], line 1\u001b[0m\n\u001b[1;32m----> 1\u001b[0m result \u001b[38;5;241m=\u001b[39m np\u001b[38;5;241m.\u001b[39msum(\u001b[43mfilteredArray\u001b[49m, \u001b[38;5;241m0\u001b[39m) \u001b[38;5;66;03m#returns list of 2200 values\u001b[39;00m\n\u001b[0;32m      2\u001b[0m \u001b[38;5;28mprint\u001b[39m(result)\n",
      "\u001b[1;31mNameError\u001b[0m: name 'filteredArray' is not defined"
     ]
    }
   ],
   "source": [
    "result = np.sum(filteredArray, 0) #returns list of 2200 values\n",
    "print(result)"
   ]
  },
  {
   "cell_type": "code",
   "execution_count": 11,
   "id": "c77e5a17-423c-44eb-801a-af71505e5f5d",
   "metadata": {},
   "outputs": [
    {
     "name": "stdout",
     "output_type": "stream",
     "text": [
      "[-0.06895 -0.04087 -0.03233 ... -0.05919 -0.04578 -0.0531 ]\n"
     ]
    }
   ],
   "source": [
    "def sumBLMs_exclude12(array):\n",
    "    filterer = DataFilter()\n",
    "    filterer.set(\"select\", False, [\"r0blm1\",\"r5im\"]) #removes r0blm1 and r5im from the array\n",
    "    filterer.set(\"select\", False, [\"r1blm1\",\"r1blm2\",\"r1blm3\",\"r1blm4\",\"r2blm1\",\"r2blm2\",\"r2blm3\",\"r2blm4\"]) #removes r1 and r2 from the array\n",
    "    filteredArray = filterer.apply(array)\n",
    "    result = np.sum(filteredArray, 0)\n",
    "    return result\n",
    "\n",
    "print(sumBLMs_exclude12(array))"
   ]
  },
  {
   "cell_type": "code",
   "execution_count": null,
   "id": "426cdfdf-e065-48cd-b03d-5cdb3e9ccbd7",
   "metadata": {},
   "outputs": [],
   "source": []
  },
  {
   "cell_type": "markdown",
   "id": "1b3039e5-7a13-440f-b15f-f95f90b5b469",
   "metadata": {},
   "source": [
    "Filtering data to offset all BLMs and invert R5IM"
   ]
  },
  {
   "cell_type": "code",
   "execution_count": 12,
   "id": "1fcce041-f6d5-465b-8ab9-eca514a3d1cc",
   "metadata": {},
   "outputs": [
    {
     "ename": "NameError",
     "evalue": "name 'filterer' is not defined",
     "output_type": "error",
     "traceback": [
      "\u001b[1;31m---------------------------------------------------------------------------\u001b[0m",
      "\u001b[1;31mNameError\u001b[0m                                 Traceback (most recent call last)",
      "Cell \u001b[1;32mIn[12], line 1\u001b[0m\n\u001b[1;32m----> 1\u001b[0m \u001b[43mfilterer\u001b[49m\u001b[38;5;241m.\u001b[39mreset()\n\u001b[0;32m      2\u001b[0m x_data \u001b[38;5;241m=\u001b[39m np\u001b[38;5;241m.\u001b[39mlinspace(\u001b[38;5;241m-\u001b[39m\u001b[38;5;241m0.5\u001b[39m,\u001b[38;5;241m10.5\u001b[39m,\u001b[38;5;241m2200\u001b[39m)\n\u001b[0;32m      3\u001b[0m y_data \u001b[38;5;241m=\u001b[39m offset_y_data(array, SpecialPoint \u001b[38;5;241m=\u001b[39m np\u001b[38;5;241m.\u001b[39mmin(array[\u001b[38;5;241m3\u001b[39m]))\n",
      "\u001b[1;31mNameError\u001b[0m: name 'filterer' is not defined"
     ]
    }
   ],
   "source": [
    "filterer.reset()\n",
    "x_data = np.linspace(-0.5,10.5,2200)\n",
    "y_data = offset_y_data(array, SpecialPoint = np.min(array[3]))\n",
    "plt.plot(x_data, y_data[3])"
   ]
  },
  {
   "cell_type": "code",
   "execution_count": 13,
   "id": "0bf0ae9f-f4a7-42db-b6eb-a3d3f6c3b96d",
   "metadata": {},
   "outputs": [
    {
     "data": {
      "image/png": "[encoded data removed]",
      "text/plain": [
       "<Figure size 640x480 with 1 Axes>"
      ]
     },
     "metadata": {},
     "output_type": "display_data"
    }
   ],
   "source": [
    "newArray = []\n",
    "for i in array:\n",
    "    offsetData = offset_y_data(i, SpecialPoint = np.min(i))\n",
    "    newArray.append(offsetData)\n",
    "\n",
    "x_data = np.linspace(-0.5,10.5,2200)\n",
    "for i in newArray:\n",
    "    plt.plot(x_data, i)"
   ]
  },
  {
   "cell_type": "code",
   "execution_count": 14,
   "id": "25597725-f013-4c91-93b2-e131dfb013ab",
   "metadata": {},
   "outputs": [],
   "source": [
    "def cleanData(array): \n",
    "    filterer = DataFilter()\n",
    "    filterer.set(\"invert\",\"r5im\")\n",
    "    array = filterer.apply(array)\n",
    "    \n",
    "    for i in array:\n",
    "        offsetData = offset_y_data(i, SpecialPoint = np.min(i))\n",
    "        newArray.append(offsetData)\n",
    "\n",
    "    newArray.append(array[39])\n",
    "    \n",
    "    return newArray    "
   ]
  },
  {
   "cell_type": "code",
   "execution_count": 15,
   "id": "3f7bde79-4d78-4033-9877-36e36cf84c17",
   "metadata": {},
   "outputs": [
    {
     "data": {
      "text/plain": [
       "[array([0., 0., 0., ..., 0., 0., 0.]),\n",
       " array([0.00489, 0.0055 , 0.0055 , ..., 0.00367, 0.00611, 0.0055 ]),\n",
       " array([0.01526, 0.01587, 0.01587, ..., 0.0177 , 0.02136, 0.02075]),\n",
       " array([0.0055 , 0.0055 , 0.00733, ..., 0.00427, 0.00733, 0.00733]),\n",
       " array([0.00977, 0.01099, 0.0116 , ..., 0.01038, 0.01099, 0.01038]),\n",
       " array([0.00488, 0.00305, 0.00366, ..., 0.00061, 0.00183, 0.00305]),\n",
       " array([0.00183, 0.00122, 0.00305, ..., 0.00305, 0.00244, 0.00244]),\n",
       " array([0.00244, 0.00183, 0.00244, ..., 0.00061, 0.00244, 0.00183]),\n",
       " array([0.00367, 0.00489, 0.00367, ..., 0.00306, 0.00367, 0.00306]),\n",
       " array([0.01342, 0.01464, 0.01159, ..., 0.01159, 0.01281, 0.00976]),\n",
       " array([0.00305, 0.00305, 0.00427, ..., 0.00427, 0.00366, 0.00427]),\n",
       " array([0.0055 , 0.00611, 0.00489, ..., 0.00244, 0.00366, 0.00305]),\n",
       " array([0.0055 , 0.00611, 0.00489, ..., 0.00916, 0.00977, 0.00977]),\n",
       " array([0.02808, 0.0293 , 0.02381, ..., 0.03296, 0.03235, 0.03174]),\n",
       " array([0.00672, 0.0055 , 0.00733, ..., 0.00672, 0.00916, 0.00977]),\n",
       " array([0.00366, 0.0116 , 0.01037, ..., 0.00488, 0.00793, 0.00854]),\n",
       " array([0.00916, 0.01099, 0.01099, ..., 0.00855, 0.00916, 0.00733]),\n",
       " array([0.01098, 0.01037, 0.01159, ..., 0.00793, 0.01037, 0.01159]),\n",
       " array([0.02807, 0.02807, 0.02807, ..., 0.02563, 0.0238 , 0.02319]),\n",
       " array([0.02014, 0.01953, 0.02136, ..., 0.01831, 0.01892, 0.0177 ]),\n",
       " array([0.01892, 0.01953, 0.01587, ..., 0.01404, 0.01526, 0.01282]),\n",
       " array([0.00671, 0.00793, 0.0061 , ..., 0.0061 , 0.00915, 0.01037]),\n",
       " array([0.00367, 0.     , 0.00367, ..., 0.00367, 0.00489, 0.00855]),\n",
       " array([0.00366, 0.00366, 0.00427, ..., 0.00488, 0.00427, 0.00427]),\n",
       " array([0.00183, 0.00488, 0.00427, ..., 0.00427, 0.00183, 0.00244]),\n",
       " array([0.0055 , 0.00733, 0.00489, ..., 0.00855, 0.00794, 0.00733]),\n",
       " array([0.00671, 0.00794, 0.00794, ..., 0.01892, 0.01831, 0.01465]),\n",
       " array([0.00549, 0.0061 , 0.0061 , ..., 0.00732, 0.0061 , 0.00488]),\n",
       " array([0.00244, 0.00122, 0.00061, ..., 0.00122, 0.00183, 0.00122]),\n",
       " array([0.00488, 0.0061 , 0.0061 , ..., 0.00305, 0.00305, 0.00366]),\n",
       " array([0.00305, 0.00549, 0.00732, ..., 0.01037, 0.00976, 0.00976]),\n",
       " array([0.11292, 0.11658, 0.12268, ..., 0.1117 , 0.10803, 0.10864]),\n",
       " array([0.00122, 0.00122, 0.00244, ..., 0.00122, 0.00122, 0.00183]),\n",
       " array([0.02136, 0.02564, 0.02625, ..., 0.02014, 0.02075, 0.01709]),\n",
       " array([0.01892, 0.01953, 0.01953, ..., 0.01587, 0.01343, 0.01404]),\n",
       " array([0.0177 , 0.01709, 0.01953, ..., 0.01465, 0.01648, 0.01404]),\n",
       " array([0.04944, 0.05066, 0.05249, ..., 0.047  , 0.04944, 0.05066]),\n",
       " array([0.01221, 0.0116 , 0.01465, ..., 0.00916, 0.01282, 0.0116 ]),\n",
       " array([0.01221, 0.01343, 0.01404, ..., 0.01648, 0.01282, 0.01587]),\n",
       " array([3.19579991, 3.19640991, 3.19701991, ..., 3.18358991, 3.18297991,\n",
       "        3.18297991]),\n",
       " array([0., 0., 0., ..., 0., 0., 0.]),\n",
       " array([0.02746, 0.02685, 0.02685, ..., 0.02868, 0.02624, 0.02685]),\n",
       " array([0.04089, 0.04028, 0.04028, ..., 0.03845, 0.03479, 0.0354 ]),\n",
       " array([0.00854, 0.00854, 0.00671, ..., 0.00977, 0.00671, 0.00671]),\n",
       " array([0.01342, 0.0122 , 0.01159, ..., 0.01281, 0.0122 , 0.01281]),\n",
       " array([0.23132, 0.23315, 0.23254, ..., 0.23559, 0.23437, 0.23315]),\n",
       " array([0.083  , 0.08361, 0.08178, ..., 0.08178, 0.08239, 0.08239]),\n",
       " array([0.01709, 0.0177 , 0.01709, ..., 0.01892, 0.01709, 0.0177 ]),\n",
       " array([0.01098, 0.00976, 0.01098, ..., 0.01159, 0.01098, 0.01159]),\n",
       " array([0.20752, 0.2063 , 0.20935, ..., 0.20935, 0.20813, 0.21118]),\n",
       " array([0.00549, 0.00549, 0.00427, ..., 0.00427, 0.00488, 0.00427]),\n",
       " array([0.00488, 0.00427, 0.00549, ..., 0.00794, 0.00672, 0.00733]),\n",
       " array([0.00976, 0.00915, 0.01037, ..., 0.0061 , 0.00549, 0.00549]),\n",
       " array([0.03784, 0.03662, 0.04211, ..., 0.03296, 0.03357, 0.03418]),\n",
       " array([0.01465, 0.01587, 0.01404, ..., 0.01465, 0.01221, 0.0116 ]),\n",
       " array([0.01404, 0.0061 , 0.00733, ..., 0.01282, 0.00977, 0.00916]),\n",
       " array([0.01099, 0.00916, 0.00916, ..., 0.0116 , 0.01099, 0.01282]),\n",
       " array([0.02564, 0.02625, 0.02503, ..., 0.02869, 0.02625, 0.02503]),\n",
       " array([0.01953, 0.01953, 0.01953, ..., 0.02197, 0.0238 , 0.02441]),\n",
       " array([0.01038, 0.01099, 0.00916, ..., 0.01221, 0.0116 , 0.01282]),\n",
       " array([0.0116 , 0.01099, 0.01465, ..., 0.01648, 0.01526, 0.0177 ]),\n",
       " array([0.00671, 0.00549, 0.00732, ..., 0.00732, 0.00427, 0.00305]),\n",
       " array([0.00976, 0.01343, 0.00976, ..., 0.00976, 0.00854, 0.00488]),\n",
       " array([0.00488, 0.00488, 0.00427, ..., 0.00366, 0.00427, 0.00427]),\n",
       " array([0.01465, 0.0116 , 0.01221, ..., 0.01221, 0.01465, 0.01404]),\n",
       " array([0.01587, 0.01404, 0.01648, ..., 0.01282, 0.01343, 0.01404]),\n",
       " array([0.02076, 0.01953, 0.01953, ..., 0.00855, 0.00916, 0.01282]),\n",
       " array([0.00976, 0.00915, 0.00915, ..., 0.00793, 0.00915, 0.01037]),\n",
       " array([0.     , 0.00122, 0.00183, ..., 0.00122, 0.00061, 0.00122]),\n",
       " array([0.00244, 0.00122, 0.00122, ..., 0.00427, 0.00427, 0.00366]),\n",
       " array([0.01282, 0.01038, 0.00855, ..., 0.0055 , 0.00611, 0.00611]),\n",
       " array([0.06469, 0.06103, 0.05493, ..., 0.06591, 0.06958, 0.06897]),\n",
       " array([0.00244, 0.00244, 0.00122, ..., 0.00244, 0.00244, 0.00183]),\n",
       " array([0.0116 , 0.00732, 0.00671, ..., 0.01282, 0.01221, 0.01587]),\n",
       " array([0.00794, 0.00733, 0.00733, ..., 0.01099, 0.01343, 0.01282]),\n",
       " array([0.00793, 0.00854, 0.0061 , ..., 0.01098, 0.00915, 0.01159]),\n",
       " array([0.01038, 0.00916, 0.00733, ..., 0.01282, 0.01038, 0.00916]),\n",
       " array([0.01282, 0.01343, 0.01038, ..., 0.01587, 0.01221, 0.01343]),\n",
       " array([0.00915, 0.00793, 0.00732, ..., 0.00488, 0.00854, 0.00549]),\n",
       " array([0.00305, 0.00244, 0.00183, ..., 0.01526, 0.01587, 0.01587]),\n",
       " array([-0.0354 , -0.03601, -0.03662, ..., -0.02319, -0.02258, -0.02258])]"
      ]
     },
     "execution_count": 15,
     "metadata": {},
     "output_type": "execute_result"
    }
   ],
   "source": [
    "cleanData(array)"
   ]
  },
  {
   "cell_type": "code",
   "execution_count": 16,
   "id": "1d4f77a9-ac17-4a4f-9d96-c9ff249b2cfa",
   "metadata": {},
   "outputs": [
    {
     "data": {
      "image/png": "[encoded data removed]",
      "text/plain": [
       "<Figure size 640x480 with 1 Axes>"
      ]
     },
     "metadata": {},
     "output_type": "display_data"
    }
   ],
   "source": [
    "x_data = np.linspace(-0.5,10.5,2200)\n",
    "for i in newArray:\n",
    "    plt.plot(x_data, i)"
   ]
  },
  {
   "cell_type": "code",
   "execution_count": 17,
   "id": "cff70eae-19b0-433b-9bb0-71fbd1cff1d1",
   "metadata": {},
   "outputs": [
    {
     "data": {
      "text/plain": [
       "(81, 2200)"
      ]
     },
     "execution_count": 17,
     "metadata": {},
     "output_type": "execute_result"
    }
   ],
   "source": [
    "np.shape(newArray)"
   ]
  },
  {
   "cell_type": "code",
   "execution_count": null,
   "id": "cb019427-e2a8-4731-8393-d673c964bb3c",
   "metadata": {},
   "outputs": [],
   "source": []
  }
 ],
 "metadata": {
  "kernelspec": {
   "display_name": "Python 3 (ipykernel)",
   "language": "python",
   "name": "python3"
  },
  "language_info": {
   "codemirror_mode": {
    "name": "ipython",
    "version": 3
   },
   "file_extension": ".py",
   "mimetype": "text/x-python",
   "name": "python",
   "nbconvert_exporter": "python",
   "pygments_lexer": "ipython3",
   "version": "3.10.9"
  }
 },
 "nbformat": 4,
 "nbformat_minor": 5
}
