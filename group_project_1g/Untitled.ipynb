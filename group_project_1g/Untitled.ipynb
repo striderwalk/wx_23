{
 "cells": [
  {
   "cell_type": "code",
   "execution_count": null,
   "id": "4867aadc",
   "metadata": {},
   "outputs": [],
   "source": [
    "def convert_to_protons(blm_data, x, calibration_curve):\n",
    "    #integrated_sum is an array of all integrated bins between start and stop\n",
    "\n",
    "    k = []\n",
    "    for i in range(1, 38):\n",
    "        k.append(offset_y_data(blm_data[i], SpecialPoint=np.min(blm_data[i])))\n",
    "    \n",
    "    sum1 = np.sum(k, axis=0)\n",
    "\n",
    "    # find integral\n",
    "    integration_data = find_diff_between_adj(get_integral(x, sum1))\n",
    "    final_data = integration_data / calibration_curve[:2198]\n",
    "    \n",
    "    return final_data \n",
    "    \n",
    "def convert_to_coulombs(blm_data, x, calibration_curve):\n",
    "    return convert_to_protons(blm_data, x, calibration_curve)*scipy.constants.e\n",
    "\n",
    "def convert_to_joules(blm_data, x, calibration_curve, blm_index):\n",
    "    return convert_to_protons(blm_data, x, calibration_curve)*blm_data[blm_index][:2198]\n",
    "\n",
    "y,x = get_test_data()\n",
    "plt.plot(convert_to_joules(y, x, calibration_curve, 5))"
   ]
  }
 ],
 "metadata": {
  "kernelspec": {
   "display_name": "Python 3 (ipykernel)",
   "language": "python",
   "name": "python3"
  },
  "language_info": {
   "codemirror_mode": {
    "name": "ipython",
    "version": 3
   },
   "file_extension": ".py",
   "mimetype": "text/x-python",
   "name": "python",
   "nbconvert_exporter": "python",
   "pygments_lexer": "ipython3",
   "version": "3.10.9"
  }
 },
 "nbformat": 4,
 "nbformat_minor": 5
}
