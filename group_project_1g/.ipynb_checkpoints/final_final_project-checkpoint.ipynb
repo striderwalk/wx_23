{
 "cells": [
  {
   "cell_type": "markdown",
   "id": "2081401f-b6d3-4eb6-a8b7-d1b66c3086f3",
   "metadata": {
    "jp-MarkdownHeadingCollapsed": true,
    "tags": []
   },
   "source": [
    "# Install all the packages"
   ]
  },
  {
   "cell_type": "code",
   "execution_count": 2,
   "id": "f81652d0-0689-44dd-8539-9fb4a55ab81f",
   "metadata": {},
   "outputs": [
    {
     "name": "stdout",
     "output_type": "stream",
     "text": [
      "Requirement already satisfied: scipy in c:\\users\\jzj33995\\appdata\\local\\anaconda3\\lib\\site-packages (1.10.0)\n",
      "Requirement already satisfied: numpy<1.27.0,>=1.19.5 in c:\\users\\jzj33995\\appdata\\local\\anaconda3\\lib\\site-packages (from scipy) (1.23.5)\n",
      "Requirement already satisfied: numpy in c:\\users\\jzj33995\\appdata\\local\\anaconda3\\lib\\site-packages (1.23.5)\n",
      "Requirement already satisfied: matplotlib in c:\\users\\jzj33995\\appdata\\local\\anaconda3\\lib\\site-packages (3.7.0)\n",
      "Requirement already satisfied: packaging>=20.0 in c:\\users\\jzj33995\\appdata\\local\\anaconda3\\lib\\site-packages (from matplotlib) (22.0)\n",
      "Requirement already satisfied: pyparsing>=2.3.1 in c:\\users\\jzj33995\\appdata\\local\\anaconda3\\lib\\site-packages (from matplotlib) (3.0.9)\n",
      "Requirement already satisfied: python-dateutil>=2.7 in c:\\users\\jzj33995\\appdata\\local\\anaconda3\\lib\\site-packages (from matplotlib) (2.8.2)\n",
      "Requirement already satisfied: contourpy>=1.0.1 in c:\\users\\jzj33995\\appdata\\local\\anaconda3\\lib\\site-packages (from matplotlib) (1.0.5)\n",
      "Requirement already satisfied: cycler>=0.10 in c:\\users\\jzj33995\\appdata\\local\\anaconda3\\lib\\site-packages (from matplotlib) (0.11.0)\n",
      "Requirement already satisfied: kiwisolver>=1.0.1 in c:\\users\\jzj33995\\appdata\\local\\anaconda3\\lib\\site-packages (from matplotlib) (1.4.4)\n",
      "Requirement already satisfied: fonttools>=4.22.0 in c:\\users\\jzj33995\\appdata\\local\\anaconda3\\lib\\site-packages (from matplotlib) (4.25.0)\n",
      "Requirement already satisfied: pillow>=6.2.0 in c:\\users\\jzj33995\\appdata\\local\\anaconda3\\lib\\site-packages (from matplotlib) (9.4.0)\n",
      "Requirement already satisfied: numpy>=1.20 in c:\\users\\jzj33995\\appdata\\local\\anaconda3\\lib\\site-packages (from matplotlib) (1.23.5)\n",
      "Requirement already satisfied: six>=1.5 in c:\\users\\jzj33995\\appdata\\local\\anaconda3\\lib\\site-packages (from python-dateutil>=2.7->matplotlib) (1.16.0)\n",
      "Requirement already satisfied: pandas in c:\\users\\jzj33995\\appdata\\local\\anaconda3\\lib\\site-packages (1.5.3)\n",
      "Requirement already satisfied: numpy>=1.21.0 in c:\\users\\jzj33995\\appdata\\local\\anaconda3\\lib\\site-packages (from pandas) (1.23.5)\n",
      "Requirement already satisfied: python-dateutil>=2.8.1 in c:\\users\\jzj33995\\appdata\\local\\anaconda3\\lib\\site-packages (from pandas) (2.8.2)\n",
      "Requirement already satisfied: pytz>=2020.1 in c:\\users\\jzj33995\\appdata\\local\\anaconda3\\lib\\site-packages (from pandas) (2022.7)\n",
      "Requirement already satisfied: six>=1.5 in c:\\users\\jzj33995\\appdata\\local\\anaconda3\\lib\\site-packages (from python-dateutil>=2.8.1->pandas) (1.16.0)\n"
     ]
    }
   ],
   "source": [
    "!pip install scipy\n",
    "!pip install numpy\n",
    "!pip install matplotlib\n",
    "!pip install pandas"
   ]
  },
  {
   "cell_type": "markdown",
   "id": "fe8342ca-85b6-4222-b36c-dd40b2efd1ab",
   "metadata": {
    "tags": []
   },
   "source": [
    "# Import all the packages"
   ]
  },
  {
   "cell_type": "code",
   "execution_count": 3,
   "id": "3ec15630",
   "metadata": {},
   "outputs": [],
   "source": [
    "import scipy\n",
    "from matplotlib import pyplot as plt\n",
    "import numpy as np\n",
    "import timeit \n",
    "import glob\n",
    "import pandas as pd\n",
    "import matplotlib.pyplot as plt\n",
    "import string\n",
    "import time\n",
    "import matplotlib.pyplot as plt\n",
    "import numpy as np"
   ]
  },
  {
   "cell_type": "markdown",
   "id": "5b36ff67-4fa5-49cc-8049-40ddab2e9627",
   "metadata": {
    "tags": []
   },
   "source": [
    "# Load Data\n"
   ]
  },
  {
   "cell_type": "code",
   "execution_count": 151,
   "id": "968018c1-a32f-4181-9d9b-ef08b001ffaa",
   "metadata": {},
   "outputs": [],
   "source": [
    "def get_test_data():\n",
    "    \n",
    "    files = glob.glob('./BLM_R5IM_Data/cycle/*.csv')\n",
    "    selected_file = files[0]\n",
    "    x_data = np.linspace(-0.5, 10.5, 2200)\n",
    "\n",
    "    #use x_data as x-coordinate when performing calculations\n",
    "    input_data = pd.read_csv(selected_file)\n",
    "    data = input_data.drop(columns = input_data.columns[0]).to_numpy()\n",
    "    \n",
    "    return (data, x_data)\n",
    "\n"
   ]
  },
  {
   "cell_type": "markdown",
   "id": "0bae3ab1",
   "metadata": {
    "tags": []
   },
   "source": [
    "# Find the values of the integral in each bucket"
   ]
  },
  {
   "cell_type": "code",
   "execution_count": null,
   "id": "b4781dfa-111d-4f8e-9941-c27288cb6b72",
   "metadata": {},
   "outputs": [],
   "source": [
    "def find_diff_between_adj(array):\n",
    "    diff_integral = np.diff(array) # take the difference bettwen each vaule \n",
    "                                   # in order to the bucket value not the vaule from the the \n",
    "    diff_intrgral = np.insert(diff_integral, 0,array[0])\n",
    "    \n",
    "    return diff_integral\n",
    "\n",
    "def get_integral(value, x):\n",
    "    integral = scipy.integrate.cumulative_trapezoid(value, x=x)\n",
    "    \n",
    "    return integral\n"
   ]
  },
  {
   "cell_type": "markdown",
   "id": "bcda45f7-d239-4c7b-9a1b-9883bdfe9298",
   "metadata": {
    "jp-MarkdownHeadingCollapsed": true,
    "tags": []
   },
   "source": [
    "# Interpolation function from group F"
   ]
  },
  {
   "cell_type": "code",
   "execution_count": 78,
   "id": "5ca8cf3a-1863-4db9-9da9-618718242262",
   "metadata": {},
   "outputs": [
    {
     "data": {
      "image/png": "[encoded data removed]",
      "text/plain": [
       "<Figure size 640x480 with 1 Axes>"
      ]
     },
     "metadata": {},
     "output_type": "display_data"
    }
   ],
   "source": [
    "def divided_diff(x, y):\n",
    "    '''\n",
    "    function to calculate the divided\n",
    "    differences table\n",
    "    '''\n",
    "    n = len(y)\n",
    "    coef = np.zeros([n, n])\n",
    "    # the first column is y\n",
    "    coef[:,0] = y\n",
    "    \n",
    "    for j in range(1,n):\n",
    "        for i in range(n-j):\n",
    "            coef[i][j] = \\\n",
    "           (coef[i+1][j-1] - coef[i][j-1]) / (x[i+j]-x[i])\n",
    "            \n",
    "    return coef\n",
    "\n",
    "def newton_poly(coef, x_data, x):\n",
    "    '''\n",
    "    evaluate the newton polynomial \n",
    "    at x\n",
    "    '''\n",
    "    n = len(x_data) - 1 \n",
    "    p = coef[n]\n",
    "    for k in range(1,n+1):\n",
    "        p = coef[n-k] + (x -x_data[n-k])*p\n",
    "    return p\n",
    "\n",
    "def calibration_curve_beta(data_points):\n",
    "    '''\n",
    "    #todo\n",
    "    '''    \n",
    "    x = np.array([70, 172, 374, 617, 780])\n",
    "    y = np.array([2.22E-13, 2.59E-13, 4.31E-12, 1.60E-11, 3.50E-11])\n",
    "\n",
    "    \n",
    "    a_s = divided_diff(x, y)[0, :]\n",
    "    x_new = np.linspace(0, 800, data_points) \n",
    "    return newton_poly(a_s, x, x_new)\n",
    "\n",
    "\n",
    "data_points = 2200\n",
    "x_data = np.linspace(70, 800, data_points)\n",
    "x_new = np.linspace(70, 800, data_points)\n",
    "calibration_data = np.abs(calibration_curve_beta(len(x_data)))\n",
    "\n",
    "plt.plot(x_data, calibration_curve_beta(len(x_data)))\n",
    "plt.grid()"
   ]
  },
  {
   "cell_type": "code",
   "execution_count": null,
   "id": "35dbefec-3188-4a31-9d27-46556283beb6",
   "metadata": {},
   "outputs": [],
   "source": [
    "x = np.array([70, 172, 374, 617, 780])\n",
    "y = np.array([2.22E-13, 2.59E-13, 4.31E-12, 1.60E-11, 3.50E-11])\n",
    "\n",
    "a_s = divided_diff(x, y)[0, :]"
   ]
  },
  {
   "cell_type": "code",
   "execution_count": 105,
   "id": "6f7953d5-498c-4d62-934d-d5156c9ef1c9",
   "metadata": {},
   "outputs": [
    {
     "data": {
      "text/plain": [
       "[<matplotlib.lines.Line2D at 0x28261ce0610>]"
      ]
     },
     "execution_count": 105,
     "metadata": {},
     "output_type": "execute_result"
    },
    {
     "data": {
      "image/png": "[encoded data removed]",
      "text/plain": [
       "<Figure size 640x480 with 1 Axes>"
      ]
     },
     "metadata": {},
     "output_type": "display_data"
    }
   ],
   "source": [
    " data_points = 2366\n",
    "x_data = np.linspace(-55, 800, data_points)\n",
    "\n",
    "plt.grid()\n",
    "calibration_curve = calibration_curve_beta(len(x_data))\n",
    "# plt.plot(x_data, calibration_curve)\n",
    "# plt.scatter(x,y)\n",
    "\n",
    "calibration_curve = calibration_curve[366:]\n",
    "\n",
    "start = np.full(100,calibration_curve[0])\n",
    "end = np.full(100,calibration_curve[-1])\n",
    "calibration_curve = np.array([*start,*calibration_curve, *end])\n",
    "plt.plot(np.linspace(-.5, 10.5 , 2200), calibration_curve)"
   ]
  },
  {
   "cell_type": "markdown",
   "id": "5db533f7-7fcd-4dae-84ab-c457a0fdee59",
   "metadata": {
    "jp-MarkdownHeadingCollapsed": true,
    "tags": []
   },
   "source": [
    "#  Function to return ISIS synchrotron beam energy at any time in the machine cycle"
   ]
  },
  {
   "cell_type": "code",
   "execution_count": 89,
   "id": "2b6798b1-2447-4e7e-b4dc-15d48b8ad15e",
   "metadata": {},
   "outputs": [],
   "source": [
    "import numpy as np\n",
    "import scipy \n",
    "import matplotlib.pyplot as plt\n",
    "    \n",
    "def synchrotron_momentum(max_E, time):\n",
    "    mpeV = scipy.constants.m_p * scipy.constants.c**2 / scipy.constants.e           # Proton mass in eV\n",
    "    R0 = 26                         # Mean machine radius\n",
    "    n_dip = 10                      # Number of dipoles\n",
    "    dip_l = 4.4                     # Dipole length\n",
    "\n",
    "    dip_angle = 2 * np.pi / n_dip   # Dipole bending angle\n",
    "    rho = dip_l / dip_angle         # Dipole radius of curvature\n",
    "    omega = 2 * np.pi * 50   \n",
    "\n",
    "    Ek = np.array([70, max_E]) * 1e6 # Injection and extraction kinetic energies \n",
    "    E = Ek + mpeV                    # Injection and extraction kinetic energies\n",
    "    p = np.sqrt(E**2 - mpeV**2)      # Injection and extraction momenta\n",
    "\n",
    "    B = p / scipy.constants.c / rho                  # Ideal magnetic field at injection and extraction energies\n",
    "\n",
    "    Bdip = lambda t: (B[1] + B[0] - (B[1] - B[0]) * np.cos(omega * t)) / 2  # Idealised B-field variation with AC\n",
    "    pdip = lambda t: Bdip(t) * rho * scipy.constants.c                                      # Momentum from B-field in MeV\n",
    "\n",
    "    return pdip(time*1E-3)\n",
    "\n",
    "def synchrotron_kinetic_energy(max_E, time):\n",
    "    mpeV = scipy.constants.m_p * scipy.constants.c**2 / scipy.constants.e           # Proton mass in eV    \n",
    "    # Relativistic Kinetic Energy = Relativistic Energy - mass\n",
    "    # return (np.sqrt(synchrotron_momentum(max_E, time)**2 + mpeV**2) - mpeV) # Return array in eV\n",
    "    return (np.sqrt(synchrotron_momentum(max_E, time)**2 + mpeV**2) - mpeV)/1E6 # Return array in MeVy at any time in the machine cycle"
   ]
  },
  {
   "cell_type": "markdown",
   "id": "4a6bf698-c850-4b1f-8d12-28080fd3c921",
   "metadata": {
    "tags": []
   },
   "source": [
    "# Function to Offset data from the uknown group(need to find out)"
   ]
  },
  {
   "cell_type": "code",
   "execution_count": null,
   "id": "c600f72a-7216-4205-9e43-95fc453c1a77",
   "metadata": {},
   "outputs": [],
   "source": [
    "def offset_y_data(data, offset = None, n = None, SpecialPoint = None):\n",
    "    '''Offsets data in y axis by designated value.\n",
    "    '''\n",
    "\n",
    "    out = data\n",
    "\n",
    "    if offset != None:\n",
    "        out = data + offset\n",
    "    if SpecialPoint != None:\n",
    "        out = data - SpecialPoint\n",
    "        return out\n",
    "\n",
    "    elif isinstance(n, int):\n",
    "        if n > 0:\n",
    "            offset = np.mean(data[:n])\n",
    "        elif n < 0:\n",
    "            offset = np.mean(data[n:])\n",
    "        else:\n",
    "            raise ValueError(\"Invalid value for n\")\n",
    "        out = data - offset\n",
    "    \n",
    "    return out\n"
   ]
  },
  {
   "cell_type": "markdown",
   "id": "2de67041-c000-4365-897b-d32265da04bc",
   "metadata": {
    "tags": []
   },
   "source": [
    "# Testing whether the final data is corect"
   ]
  },
  {
   "cell_type": "code",
   "execution_count": 166,
   "id": "8e54ca40-a7c6-4c78-8db4-fce677f3fc76",
   "metadata": {},
   "outputs": [
    {
     "data": {
      "text/plain": [
       "[<matplotlib.lines.Line2D at 0x282623c2050>]"
      ]
     },
     "execution_count": 166,
     "metadata": {},
     "output_type": "execute_result"
    },
    {
     "data": {
      "image/png": "[encoded data removed]",
      "text/plain": [
       "<Figure size 640x480 with 1 Axes>"
      ]
     },
     "metadata": {},
     "output_type": "display_data"
    }
   ],
   "source": [
    "def convert_to_protons(blm_data, x, calibration_curve):\n",
    "    #integrated_sum is an array of all integrated bins between start and stop\n",
    "\n",
    "    k = []\n",
    "    for i in range(1, 38):\n",
    "        k.append(offset_y_data(blm_data[i], SpecialPoint=np.min(blm_data[i])))\n",
    "    \n",
    "    sum1 = np.sum(k, axis=0)\n",
    "\n",
    "    # find integral\n",
    "    integration_data = find_diff_between_adj(get_integral(x, sum1))\n",
    "    final_data = integration_data / calibration_curve[:2198]\n",
    "    \n",
    "    return final_data \n",
    "    \n",
    "def convert_to_coulombs(blm_data, x, calibration_curve):\n",
    "    return convert_to_protons(blm_data, x, calibration_curve)*scipy.constants.e\n",
    "\n",
    "def convert_to_joules(blm_data, x, calibration_curve, blm_index):\n",
    "    return convert_to_protons(blm_data, x, calibration_curve)*blm_data[blm_index][:2198]\n",
    "\n",
    "y,x = get_test_data()\n",
    "plt.plot(convert_to_joules(y, x, calibration_curve, 5))"
   ]
  },
  {
   "cell_type": "code",
   "execution_count": null,
   "id": "0343fd0c-c5e1-4c7e-8da4-607977b408be",
   "metadata": {},
   "outputs": [],
   "source": []
  },
  {
   "cell_type": "code",
   "execution_count": null,
   "id": "c4917279-694e-4dc6-84d2-e998bdb44eff",
   "metadata": {},
   "outputs": [],
   "source": []
  }
 ],
 "metadata": {
  "kernelspec": {
   "display_name": "Python 3 (ipykernel)",
   "language": "python",
   "name": "python3"
  },
  "language_info": {
   "codemirror_mode": {
    "name": "ipython",
    "version": 3
   },
   "file_extension": ".py",
   "mimetype": "text/x-python",
   "name": "python",
   "nbconvert_exporter": "python",
   "pygments_lexer": "ipython3",
   "version": "3.10.9"
  }
 },
 "nbformat": 4,
 "nbformat_minor": 5
}
