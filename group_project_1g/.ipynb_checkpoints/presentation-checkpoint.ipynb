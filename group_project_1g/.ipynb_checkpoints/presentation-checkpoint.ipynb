{
 "cells": [
  {
   "cell_type": "markdown",
   "id": "a705968b",
   "metadata": {},
   "source": [
    "# Integration: Group G"
   ]
  },
  {
   "cell_type": "markdown",
   "id": "23f032cc",
   "metadata": {},
   "source": [
    "# Aims\n",
    "- [ ] Research methods of numerical integration using python\n",
    "- [ ] Test and compare integration methods using any BLM signal / your own dummy data\n",
    "    - [ ] define simple test cases with dummy data to prove the integration is correct\n",
    "    - [ ] investigate different methods of integration\n",
    "    - [ ] compare different methods to find fast and accurate integration methods, using dummy and BLM data  \n",
    "   \n",
    "At the most basic level, essentially Integration of data in Python to find area under the curve for energy loss."
   ]
  },
  {
   "cell_type": "markdown",
   "id": "99c60dd9",
   "metadata": {},
   "source": [
    "## Initial research into methods\n",
    "- Romberg\n",
    "- Simpsons\n",
    "- Trapezodal\n",
    "- Cumulative trapezodal\n",
    "- Quad \n",
    "\n",
    "**Challenges faced**: \n",
    "- First 3 had limited applications depending on the use of polynomials - Romberg Integration\n",
    "- Cumulative Trapezoidal would only returns the integral from 0 to a given point giving us the total area under the curve until a specific point, which made it diffucult to find it between two set points\n",
    "- Quad, essentially a more difficult method to integrate as data had to be interpolated, which essentially meant it wanted a clear function, to be able to integrate that data."
   ]
  },
  {
   "cell_type": "markdown",
   "id": "e6df5662",
   "metadata": {},
   "source": [
    "## Solutions \n",
    "\n",
    "- We couldn't use first three so narrowed it down to two real choices.\n",
    "\n",
    "Researched into cumulative integration and applied it to the basic project brief."
   ]
  },
  {
   "cell_type": "code",
   "execution_count": 33,
   "id": "8382bbf6",
   "metadata": {},
   "outputs": [],
   "source": [
    "from matplotlib import pyplot as plt\n",
    "import numpy as np\n",
    "import scipy"
   ]
  },
  {
   "cell_type": "code",
   "execution_count": 38,
   "id": "f782f2bf",
   "metadata": {},
   "outputs": [
    {
     "data": {
      "image/png": "[encoded data removed]",
      "text/plain": [
       "<Figure size 640x480 with 1 Axes>"
      ]
     },
     "metadata": {},
     "output_type": "display_data"
    }
   ],
   "source": [
    "x = np.linspace(-2, 2, num=1000)\n",
    "y = [1 for i in range(len(x))]\n",
    "plt.plot(x,y)\n",
    "y_int = scipy.integrate.cumulative_trapezoid(y, x)\n",
    "plt.plot(x[:-1], y_int)\n",
    "\n",
    "plt.show()"
   ]
  },
  {
   "cell_type": "markdown",
   "id": "2a87ca1f",
   "metadata": {},
   "source": [
    "Timing Test: (not included here as longer to explain)"
   ]
  },
  {
   "cell_type": "markdown",
   "id": "a89b6bb9",
   "metadata": {},
   "source": [
    "- cumulative_trapezoid takes ~10 ms\n",
    "- quad with interpolation takes ~95s"
   ]
  },
  {
   "cell_type": "code",
   "execution_count": 35,
   "id": "0e58ca17",
   "metadata": {},
   "outputs": [],
   "source": [
    "def intergrate_blm_data(blm_data):\n",
    "     \n",
    "    intergrated_data = []\n",
    "    for blm in blm_data: \n",
    "        blm_intg = scipy.integrate.cumulative_trapezoid(blm, x = np.linspace(-0.5, 10.5, 2200)) # find the cumulative intergral\n",
    "        blm_intg = np.diff(blm_intg)  # take the difference bettwen each vaule \n",
    "                                        # in order to the bucket value not the vaule from the the \n",
    "        intergrated_data.append(blm_intg)\n",
    "        \n",
    "    \n",
    "    \n",
    "    return intergrated_data\n",
    "    "
   ]
  },
  {
   "cell_type": "markdown",
   "id": "c3073778",
   "metadata": {},
   "source": [
    "**Progress**:\n",
    "\n",
    "- In theory, the function for cumalative frequency has been implemented, as seen above. Cumulative integration as seen in first function, second function returns a list of the buckets (to be tested).\n",
    "- Quad requires to have a continous function, which reuqires more steps and time and therefore we will not be continuing with Quad.\n",
    "\n",
    "**Next Steps**:\n",
    "\n",
    "- Test accuracy and just run multiple tests to check it's all good."
   ]
  },
  {
   "cell_type": "code",
   "execution_count": null,
   "id": "d6735bf4",
   "metadata": {},
   "outputs": [],
   "source": []
  }
 ],
 "metadata": {
  "kernelspec": {
   "display_name": "Python 3 (ipykernel)",
   "language": "python",
   "name": "python3"
  },
  "language_info": {
   "codemirror_mode": {
    "name": "ipython",
    "version": 3
   },
   "file_extension": ".py",
   "mimetype": "text/x-python",
   "name": "python",
   "nbconvert_exporter": "python",
   "pygments_lexer": "ipython3",
   "version": "3.10.9"
  }
 },
 "nbformat": 4,
 "nbformat_minor": 5
}
