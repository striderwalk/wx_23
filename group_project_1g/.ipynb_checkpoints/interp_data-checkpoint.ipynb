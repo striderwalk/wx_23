{
 "cells": [
  {
   "cell_type": "code",
   "execution_count": 36,
   "id": "09cf391e",
   "metadata": {},
   "outputs": [],
   "source": [
    "import numpy as np\n",
    "from scipy.constants import c, m_p, e\n",
    "from matplotlib import pyplot as plt"
   ]
  },
  {
   "cell_type": "markdown",
   "id": "8c875a47",
   "metadata": {},
   "source": [
    "# Convert energy to time "
   ]
  },
  {
   "cell_type": "code",
   "execution_count": 37,
   "id": "102b7a5a",
   "metadata": {},
   "outputs": [],
   "source": [
    "def synchrotron_momentum(max_E, time):\n",
    "    mpeV = m_p * c**2 / e           # Proton mass in eV\n",
    "    R0 = 26                         # Mean machine radius\n",
    "    n_dip = 10                      # Number of dipoles\n",
    "    dip_l = 4.4                     # Dipole length\n",
    "    \n",
    "    dip_angle = 2 * np.pi / n_dip   # Dipole bending angle\n",
    "    rho = dip_l / dip_angle         # Dipole radius of curvature\n",
    "    omega = 2 * np.pi * 50   \n",
    "    \n",
    "    Ek = np.array([70, max_E]) * 1e6 # Injection and extraction kinetic energies \n",
    "    E = Ek + mpeV                    # Injection and extraction kinetic energies\n",
    "    p = np.sqrt(E**2 - mpeV**2)      # Injection and extraction momenta\n",
    "\n",
    "    B = p / c / rho                  # Ideal magnetic field at injection and extraction energies\n",
    "    \n",
    "    Bdip = lambda t: (B[1] + B[0] - (B[1] - B[0]) * np.cos(omega * t)) / 2  # Idealised B-field variation with AC\n",
    "    pdip = lambda t: Bdip(t) * rho * c                                      # Momentum from B-field in MeV\n",
    "    \n",
    "    return pdip(time*1E-3)\n",
    "\n",
    "def synchrotron_kinetic_energy(max_E, time):\n",
    "    mpeV = m_p * c**2 / e           # Proton mass in eV    \n",
    "    # Relativistic Kinetic Energy = Relativistic Energy - mass\n",
    "    return (np.sqrt(synchrotron_momentum(max_E, time)**2 + mpeV**2) - mpeV) # Return array in eV\n",
    "    #return (np.sqrt(synchrotron_momentum(max_E, time)**2 + mpeV**2) - mpeV)/1E6 # Return array in MeV\n"
   ]
  },
  {
   "cell_type": "code",
   "execution_count": 39,
   "id": "0172643e",
   "metadata": {},
   "outputs": [],
   "source": [
    "x_data = np.linspace(-55, 800, data_points)\n",
    "def divided_diff(x, y):\n",
    "    '''\n",
    "    function to calculate the divided\n",
    "    differences table\n",
    "    '''\n",
    "    n = len(y)\n",
    "    coef = np.zeros([n, n])\n",
    "    # the first column is y\n",
    "    coef[:,0] = y\n",
    "    \n",
    "    for j in range(1,n):\n",
    "        for i in range(n-j):\n",
    "            coef[i][j] = \\\n",
    "           (coef[i+1][j-1] - coef[i][j-1]) / (x[i+j]-x[i])\n",
    "            \n",
    "    return coef\n",
    "\n",
    "def newton_poly(coef, x_data, x):\n",
    "    '''\n",
    "    evaluate the newton polynomial \n",
    "    at x\n",
    "    '''\n",
    "    n = len(x_data) - 1 \n",
    "    p = coef[n]\n",
    "    for k in range(1,n+1):\n",
    "        p = coef[n-k] + (x -x_data[n-k])*p\n",
    "    return p\n",
    "\n",
    "def calibration_curve_beta(data_points):   \n",
    "    x = np.array([70, 172, 374, 617, 780])\n",
    "    y = np.array([2.22E-13, 2.59E-13, 4.31E-12, 1.60E-11, 3.50E-11])\n",
    "\n",
    "    \n",
    "    a_s = divided_diff(x, y)[0, :]\n",
    "    x_new = np.linspace(0, 800, data_points) \n",
    "    return newton_poly(a_s, x, x_new)\n"
   ]
  },
  {
   "cell_type": "code",
   "execution_count": 12,
   "id": "fa53a22d",
   "metadata": {},
   "outputs": [],
   "source": [
    "x = np.array([70, 172, 374, 617, 780])\n",
    "y = np.array([2.22E-13, 2.59E-13, 4.31E-12, 1.60E-11, 3.50E-11])\n",
    "\n",
    "a_s = divided_diff(x, y)[0, :]"
   ]
  },
  {
   "cell_type": "code",
   "execution_count": 44,
   "id": "4bacf576",
   "metadata": {},
   "outputs": [],
   "source": [
    " \n",
    "def get_calibration_curve(MaxE=800):\n",
    "    \"\"\"\n",
    "    Get the calibration \n",
    "    \"\"\"\n",
    "    # get the interpolated calabration curve\n",
    "    _data_points = 2366\n",
    "    x_data = np.linspace(-55, 800, data_points)\n",
    "    calibration_curve = calibration_curve_beta(len(x_data))\n",
    "    calibration_curve = calibration_curve[366:]\n",
    "    plt.plot(calibration_curve)\n",
    "    # add the flat sections \n",
    "    start = np.full(100,calibration_curve[0])\n",
    "    end = np.full(100,calibration_curve[-1])\n",
    "    calibration_curve = np.array([*start,*calibration_curve, *end])\n",
    "    return calibration_curve\n",
    "\n"
   ]
  },
  {
   "cell_type": "code",
   "execution_count": null,
   "id": "2403f242",
   "metadata": {},
   "outputs": [],
   "source": []
  }
 ],
 "metadata": {
  "kernelspec": {
   "display_name": "Python 3 (ipykernel)",
   "language": "python",
   "name": "python3"
  },
  "language_info": {
   "codemirror_mode": {
    "name": "ipython",
    "version": 3
   },
   "file_extension": ".py",
   "mimetype": "text/x-python",
   "name": "python",
   "nbconvert_exporter": "python",
   "pygments_lexer": "ipython3",
   "version": "3.10.9"
  }
 },
 "nbformat": 4,
 "nbformat_minor": 5
}
