{
 "cells": [
  {
   "cell_type": "markdown",
   "id": "8a5c097f",
   "metadata": {},
   "source": [
    "# Project 1G: Energy Conversion: Integration\n",
    "---\n",
    "> - Si-Yuan Huang\n",
    "> - Craig Leppinen\n",
    "> - Pranav Sharma\n",
    "> - Vlad Ersteniuk\n",
    "---\n",
    "Using the Beam Loss Monitor (BLM) signals you will research python methods of integrating this signal to find the area under the beam loss in Volt Seconds.\n",
    "\n",
    "You will then collaborate with group 1F to provide methods to convert BLM signal units from Volts (raw signal) to Protons / Coulombs (charge) / Joules (energy).\n"
   ]
  },
  {
   "cell_type": "markdown",
   "id": "7c8095f4",
   "metadata": {},
   "source": [
    "<div class=\"alert alert-block alert-info\">\n",
    "<b>General Advice</b>\n",
    "\n",
    "> In your groups:\n",
    "> - Start by planning your work\n",
    "> - You will need fundamental functions; try to plan what these should do, what arguments they should take, which should have default values (some default values will need research - ask us!), and what they should return. Don't forget to consider speed and the format of the data (float? int? array of floats? should the array be a certain length?...)\n",
    "> - Ask for feedback on your plan to save time\n",
    "> - Document your functions so others can understand / use / modify them\n",
    "> - Build more complex functions using the fundamental functions, this may require you to go back and modify the fundamental functions.\n",
    "> - Some things are suitable for objects (classes), others are not. Speed and accuracy are important.\n",
    "\n",
    "\n",
    "> When coding a function (unless you have a preferred method):\n",
    "> 1. Plan your code in bullet points / pseudo-code\n",
    "> 2. Template your functions - put comments to say what you want to do\n",
    "> 3. Implement your code step-by-step. Pair programming here is your friend and will catch many mistakes, as well as give 2 people enough experience of the code to help debug it\n",
    "> 4. Test your code and document the testing\n",
    "> 5. Provide standard tests <b>only if requested by Haroon/Esher</b> (define an input with a known output and assert that it is the same, or within a tolerance)    \n",
    "> 6. Provide examples of use for each use case (different behaviour with optional arguments etc)\n",
    "> 7. Turn your functions into objects if suitable\n",
    "> 8. Get feedback from peers / supervisors / team-mates / users\n",
    "\n",
    "> - <b> Make a repository to hold your group project</b> (public so we can all access it at need), try to keep this well organised and easy to navigate / use / find something\n",
    "> - Make a Jupyter notebook for each investigation / function / method: such that future users (perhaps you) can use these notebooks to construct the code required to make future GUIs work\n",
    "> - Feel free to store individual work on your own 'dump' repository, and copy completed work to your group repository\n",
    "\n",
    "\n",
    "</div>"
   ]
  },
  {
   "cell_type": "markdown",
   "id": "6e76c4a1",
   "metadata": {},
   "source": [
    "---\n",
    "## Tasks:\n",
    "\n",
    "- [ ] Research methods of numerical integration using python\n",
    "- [ ] Test and compare integration methods using any BLM signal / your own dummy data\n",
    "    - [ ] define simple test cases with dummy data to prove the integration is correct\n",
    "    - [ ] investigate different methods of integration\n",
    "    - [ ] compare different methods to find fast and accurate integration methods, using dummy and BLM data    \n",
    "- [ ] **Collaborate with Project_1_F: Energy Conversion Interpolation:** complete the calibration (**Ask Haroon / Esher for guidance**):\n",
    "    - [ ] Interpolate calibration curve using 1F methods\n",
    "    - [ ] Integrate BLM signal per bin (2200 - 1 = 2199 bins) using methods you have defined\n",
    "    - [ ] Using Esher's BLM calibration story notebook (and help from Haroon / Esher), convert BLM signals from volts to; protons, Coulombs (charge), and Joules (Energy)\n",
    "    \n",
    "### Extensions:\n",
    "Complete all tasks before starting extensions\n",
    "\n",
    "- [ ] **Collaborate with Project_1_E: File I/O:** store integrated data to file (think about how it should be formatted, labelled etc)\n"
   ]
  },
  {
   "cell_type": "markdown",
   "id": "1508497d",
   "metadata": {},
   "source": [
    "### Goal\n",
    "#### Provide methods (functions / classes) to:\n",
    "- [ ] Investigate methods of integratiing data\n",
    "- [ ] Provide fast and accurate method(s) of integrationg BLM data\n",
    "- [ ] (With group 1F) define methods to convert BLM signals from volts to Protons / Coulombs / Joules\n",
    "- [ ] (With group 1F) Implement the correct methods to handle a change in maximum energy / use injection energy"
   ]
  },
  {
   "cell_type": "markdown",
   "id": "264f8459",
   "metadata": {},
   "source": [
    "## Haroon / Esher to provide:"
   ]
  },
  {
   "cell_type": "markdown",
   "id": "38774e4f",
   "metadata": {},
   "source": [
    "- [x] BLM calibration data in x,y with units\n",
    "- [ ] Esher's BLM Calibration story notebook"
   ]
  },
  {
   "cell_type": "code",
   "execution_count": 1,
   "id": "ce59e6a2",
   "metadata": {},
   "outputs": [],
   "source": [
    "import numpy as np\n",
    "calibration_energy = np.array([70, 172, 374, 617, 780])\n",
    "calibration_data = np.array([2.22E-13, 2.59E-13, 4.31E-12, 1.60E-11, 3.50E-11])"
   ]
  },
  {
   "cell_type": "code",
   "execution_count": 2,
   "id": "9acdae38",
   "metadata": {},
   "outputs": [
    {
     "data": {
      "image/png": "[encoded data removed]",
      "text/plain": [
       "<Figure size 640x480 with 1 Axes>"
      ]
     },
     "metadata": {},
     "output_type": "display_data"
    }
   ],
   "source": [
    "import matplotlib.pyplot as plt\n",
    "plt.scatter(calibration_energy, calibration_data);\n",
    "plt.xlabel('Beam Energy [MeV]');\n",
    "plt.ylabel('Calibration Coefficient [mV s / proton]');\n",
    "plt.grid()"
   ]
  },
  {
   "cell_type": "markdown",
   "id": "1e1f8d8f",
   "metadata": {},
   "source": [
    "# Integration methods\n",
    "numpy.trapz"
   ]
  },
  {
   "cell_type": "code",
   "execution_count": 1,
   "id": "7e266f0d",
   "metadata": {},
   "outputs": [
    {
     "data": {
      "text/html": [
       "<iframe src=\"https://numpy.org/doc/stable/reference/generated/numpy.linspace.html\" width=864.0 height=576.0></iframe>\n"
      ],
      "text/plain": [
       "<IPython.core.display.HTML object>"
      ]
     },
     "metadata": {},
     "output_type": "display_data"
    }
   ],
   "source": [
    "%%html \n",
    "<iframe src=\"https://numpy.org/doc/stable/reference/generated/numpy.linspace.html\" width=864.0 height=576.0></iframe>"
   ]
  },
  {
   "cell_type": "markdown",
   "id": "ba549258",
   "metadata": {},
   "source": [
    "scipy.integrate.simpson\n"
   ]
  },
  {
   "cell_type": "code",
   "execution_count": 3,
   "id": "38f3fdf9",
   "metadata": {},
   "outputs": [
    {
     "data": {
      "text/html": [
       "<iframe src=\"https://docs.scipy.org/doc/scipy/reference/generated/scipy.integrate.simpson.html\" width=864.0 height=576.0></iframe>\n"
      ],
      "text/plain": [
       "<IPython.core.display.HTML object>"
      ]
     },
     "metadata": {},
     "output_type": "display_data"
    }
   ],
   "source": [
    "%%html\n",
    "<iframe src=\"https://docs.scipy.org/doc/scipy/reference/generated/scipy.integrate.simpson.html\" width=864.0 height=576.0></iframe>"
   ]
  },
  {
   "cell_type": "markdown",
   "id": "2eb720ed",
   "metadata": {},
   "source": [
    "scipy.integrate.quad"
   ]
  },
  {
   "cell_type": "markdown",
   "id": "db17bbb8",
   "metadata": {},
   "source": [
    "# slow but accturate\n",
    "scipy.integrate.cumulative_trapezoid\n",
    "scipy.integrate.simpson (mid speed)\n",
    "\n",
    "# fast "
   ]
  },
  {
   "cell_type": "code",
   "execution_count": null,
   "id": "3b74322e",
   "metadata": {},
   "outputs": [],
   "source": []
  }
 ],
 "metadata": {
  "kernelspec": {
   "display_name": "Python 3 (ipykernel)",
   "language": "python",
   "name": "python3"
  },
  "language_info": {
   "codemirror_mode": {
    "name": "ipython",
    "version": 3
   },
   "file_extension": ".py",
   "mimetype": "text/x-python",
   "name": "python",
   "nbconvert_exporter": "python",
   "pygments_lexer": "ipython3",
   "version": "3.10.9"
  }
 },
 "nbformat": 4,
 "nbformat_minor": 5
}
