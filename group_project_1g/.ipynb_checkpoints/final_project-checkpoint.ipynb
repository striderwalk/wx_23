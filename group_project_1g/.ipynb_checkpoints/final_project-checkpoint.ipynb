{
 "cells": [
  {
   "cell_type": "markdown",
   "id": "2081401f-b6d3-4eb6-a8b7-d1b66c3086f3",
   "metadata": {
    "jp-MarkdownHeadingCollapsed": true,
    "tags": []
   },
   "source": [
    "# Install all the packages"
   ]
  },
  {
   "cell_type": "code",
   "execution_count": 2,
   "id": "f81652d0-0689-44dd-8539-9fb4a55ab81f",
   "metadata": {},
   "outputs": [
    {
     "name": "stdout",
     "output_type": "stream",
     "text": [
      "Requirement already satisfied: scipy in c:\\users\\jzj33995\\appdata\\local\\anaconda3\\lib\\site-packages (1.10.0)\n",
      "Requirement already satisfied: numpy<1.27.0,>=1.19.5 in c:\\users\\jzj33995\\appdata\\local\\anaconda3\\lib\\site-packages (from scipy) (1.23.5)\n",
      "Requirement already satisfied: numpy in c:\\users\\jzj33995\\appdata\\local\\anaconda3\\lib\\site-packages (1.23.5)\n",
      "Requirement already satisfied: matplotlib in c:\\users\\jzj33995\\appdata\\local\\anaconda3\\lib\\site-packages (3.7.0)\n",
      "Requirement already satisfied: packaging>=20.0 in c:\\users\\jzj33995\\appdata\\local\\anaconda3\\lib\\site-packages (from matplotlib) (22.0)\n",
      "Requirement already satisfied: pyparsing>=2.3.1 in c:\\users\\jzj33995\\appdata\\local\\anaconda3\\lib\\site-packages (from matplotlib) (3.0.9)\n",
      "Requirement already satisfied: python-dateutil>=2.7 in c:\\users\\jzj33995\\appdata\\local\\anaconda3\\lib\\site-packages (from matplotlib) (2.8.2)\n",
      "Requirement already satisfied: contourpy>=1.0.1 in c:\\users\\jzj33995\\appdata\\local\\anaconda3\\lib\\site-packages (from matplotlib) (1.0.5)\n",
      "Requirement already satisfied: cycler>=0.10 in c:\\users\\jzj33995\\appdata\\local\\anaconda3\\lib\\site-packages (from matplotlib) (0.11.0)\n",
      "Requirement already satisfied: kiwisolver>=1.0.1 in c:\\users\\jzj33995\\appdata\\local\\anaconda3\\lib\\site-packages (from matplotlib) (1.4.4)\n",
      "Requirement already satisfied: fonttools>=4.22.0 in c:\\users\\jzj33995\\appdata\\local\\anaconda3\\lib\\site-packages (from matplotlib) (4.25.0)\n",
      "Requirement already satisfied: pillow>=6.2.0 in c:\\users\\jzj33995\\appdata\\local\\anaconda3\\lib\\site-packages (from matplotlib) (9.4.0)\n",
      "Requirement already satisfied: numpy>=1.20 in c:\\users\\jzj33995\\appdata\\local\\anaconda3\\lib\\site-packages (from matplotlib) (1.23.5)\n",
      "Requirement already satisfied: six>=1.5 in c:\\users\\jzj33995\\appdata\\local\\anaconda3\\lib\\site-packages (from python-dateutil>=2.7->matplotlib) (1.16.0)\n",
      "Requirement already satisfied: pandas in c:\\users\\jzj33995\\appdata\\local\\anaconda3\\lib\\site-packages (1.5.3)\n",
      "Requirement already satisfied: numpy>=1.21.0 in c:\\users\\jzj33995\\appdata\\local\\anaconda3\\lib\\site-packages (from pandas) (1.23.5)\n",
      "Requirement already satisfied: python-dateutil>=2.8.1 in c:\\users\\jzj33995\\appdata\\local\\anaconda3\\lib\\site-packages (from pandas) (2.8.2)\n",
      "Requirement already satisfied: pytz>=2020.1 in c:\\users\\jzj33995\\appdata\\local\\anaconda3\\lib\\site-packages (from pandas) (2022.7)\n",
      "Requirement already satisfied: six>=1.5 in c:\\users\\jzj33995\\appdata\\local\\anaconda3\\lib\\site-packages (from python-dateutil>=2.8.1->pandas) (1.16.0)\n"
     ]
    }
   ],
   "source": [
    "!pip install scipy\n",
    "!pip install numpy\n",
    "!pip install matplotlib\n",
    "!pip install pandas"
   ]
  },
  {
   "cell_type": "markdown",
   "id": "fe8342ca-85b6-4222-b36c-dd40b2efd1ab",
   "metadata": {
    "tags": []
   },
   "source": [
    "# Import all the packages"
   ]
  },
  {
   "cell_type": "code",
   "execution_count": 27,
   "id": "3ec15630",
   "metadata": {},
   "outputs": [],
   "source": [
    "import scipy\n",
    "from matplotlib import pyplot as plt\n",
    "import numpy as np\n",
    "import timeit \n",
    "import glob\n",
    "import pandas as pd\n",
    "import matplotlib.pyplot as plt\n",
    "import string\n",
    "import time\n",
    "import matplotlib.pyplot as plt\n",
    "import numpy as np"
   ]
  },
  {
   "cell_type": "markdown",
   "id": "5b36ff67-4fa5-49cc-8049-40ddab2e9627",
   "metadata": {
    "tags": []
   },
   "source": [
    "# Load Data\n"
   ]
  },
  {
   "cell_type": "code",
   "execution_count": 28,
   "id": "968018c1-a32f-4181-9d9b-ef08b001ffaa",
   "metadata": {},
   "outputs": [],
   "source": [
    "def get_test_data():\n",
    "    \n",
    "    files = glob.glob('./BLM_R5IM_Data/cycle/*.csv')\n",
    "    selected_file = files[0]\n",
    "    x_data = np.linspace(-0.5, 10.5, 2200)\n",
    "\n",
    "    #use x_data as x-coordinate when performing calculations\n",
    "    input_data = pd.read_csv(selected_file)\n",
    "    data = input_data.drop(columns = input_data.columns[0]).to_numpy()\n",
    "    \n",
    "    return (data, x_data)\n",
    "\n"
   ]
  },
  {
   "cell_type": "markdown",
   "id": "bcda45f7-d239-4c7b-9a1b-9883bdfe9298",
   "metadata": {
    "jp-MarkdownHeadingCollapsed": true,
    "tags": []
   },
   "source": [
    "# Interpolation function from group F"
   ]
  },
  {
   "cell_type": "code",
   "execution_count": 44,
   "id": "5ca8cf3a-1863-4db9-9da9-618718242262",
   "metadata": {},
   "outputs": [],
   "source": [
    "def divided_diff(x, y):\n",
    "    '''\n",
    "    function to calculate the divided\n",
    "    differences table\n",
    "    '''\n",
    "    n = len(y)\n",
    "    coef = np.zeros([n, n])\n",
    "    # the first column is y\n",
    "    coef[:,0] = y\n",
    "    \n",
    "    for j in range(1,n):\n",
    "        for i in range(n-j):\n",
    "            coef[i][j] = \\\n",
    "           (coef[i+1][j-1] - coef[i][j-1]) / (x[i+j]-x[i])\n",
    "            \n",
    "    return coef\n",
    "\n",
    "def newton_poly(coef, x_data, x):\n",
    "    '''\n",
    "    evaluate the newton polynomial \n",
    "    at x\n",
    "    '''\n",
    "    n = len(x_data) - 1 \n",
    "    p = coef[n]\n",
    "    for k in range(1,n+1):\n",
    "        p = coef[n-k] + (x -x_data[n-k])*p\n",
    "    return p\n",
    "\n",
    "def calibration_curve_beta(data_points):\n",
    "    '''\n",
    "    #todo\n",
    "    '''    \n",
    "    x = np.array([70, 172, 374, 617, 780])\n",
    "    y = np.array([2.22E-13, 2.59E-13, 4.31E-12, 1.60E-11, 3.50E-11])\n",
    "\n",
    "    \n",
    "    a_s = divided_diff(x, y)[0, :]\n",
    "    x_new = np.linspace(0, 800, data_points) \n",
    "    return newton_poly(a_s, x, x_new)\n",
    "\n",
    "\n"
   ]
  },
  {
   "cell_type": "code",
   "execution_count": 45,
   "id": "35dbefec-3188-4a31-9d27-46556283beb6",
   "metadata": {},
   "outputs": [],
   "source": [
    "x = np.array([70, 172, 374, 617, 780])\n",
    "y = np.array([2.22E-13, 2.59E-13, 4.31E-12, 1.60E-11, 3.50E-11])\n",
    "\n",
    "a_s = divided_diff(x, y)[0, :]"
   ]
  },
  {
   "cell_type": "code",
   "execution_count": 46,
   "id": "6f7953d5-498c-4d62-934d-d5156c9ef1c9",
   "metadata": {},
   "outputs": [
    {
     "data": {
      "text/plain": [
       "[<matplotlib.lines.Line2D at 0x25827cad870>]"
      ]
     },
     "execution_count": 46,
     "metadata": {},
     "output_type": "execute_result"
    },
    {
     "data": {
      "image/png": "[encoded data removed]",
      "text/plain": [
       "<Figure size 640x480 with 1 Axes>"
      ]
     },
     "metadata": {},
     "output_type": "display_data"
    }
   ],
   "source": [
    " data_points = 2366\n",
    "x_data = np.linspace(-55, 800, data_points)\n",
    "\n",
    "plt.grid()\n",
    "calibration_curve = calibration_curve_beta(len(x_data))\n",
    "# plt.plot(x_data, calibration_curve)\n",
    "# plt.scatter(x,y)\n",
    "\n",
    "calibration_curve = calibration_curve[366:]\n",
    "\n",
    "start = np.full(100,calibration_curve[0])\n",
    "end = np.full(100,calibration_curve[-1])\n",
    "calibration_curve = np.array([*start,*calibration_curve, *end])\n",
    "plt.plot(np.linspace(-.5, 10.5 , 2200), calibration_curve)"
   ]
  },
  {
   "cell_type": "code",
   "execution_count": 47,
   "id": "8e54ca40-a7c6-4c78-8db4-fce677f3fc76",
   "metadata": {},
   "outputs": [
    {
     "data": {
      "text/plain": [
       "[<matplotlib.lines.Line2D at 0x25828f915a0>]"
      ]
     },
     "execution_count": 47,
     "metadata": {},
     "output_type": "execute_result"
    },
    {
     "data": {
      "image/png": "[encoded data removed]",
      "text/plain": [
       "<Figure size 640x480 with 1 Axes>"
      ]
     },
     "metadata": {},
     "output_type": "display_data"
    }
   ],
   "source": [
    "def find_diff_between_adj(cumultive_integral):\n",
    "    diff_integral = np.diff(cumultive_integral) # take the difference bettwen each vaule \n",
    "                                   # in order to the bucket value not the vaule from the the \n",
    "    #diff_intrgral = np.insert(diff_integral, cumultive_integral[0], 0)\n",
    "    \n",
    "    return diff_integral\n",
    "\n",
    "def get_integral(blm_signal, x):\n",
    "    integral = scipy.integrate.cumulative_trapezoid(blm_signal, x=x)\n",
    "    return find_diff_between_adj(integral)\n",
    "\n",
    "\n",
    "class Convert:\n",
    "    @staticmethod\n",
    "    def to_protons(blm_signal, x, calibration_curve):\n",
    "        \"\"\"\n",
    "        Convert the raw blm signal from 1 moniter to protons per second\n",
    "        \"\"\"\n",
    "\n",
    "        # find integral\n",
    "        integration_data = get_integral(blm_signal,x) \n",
    "        \n",
    "        # do the convertion\n",
    "        final_data = integration_data / calibration_curve[:2198]\n",
    "\n",
    "        return final_data \n",
    "    @staticmethod\n",
    "    def to_coulombs(blm_signal, x, calibration_curve):\n",
    "        \"\"\"\n",
    "        Convert the raw blm signal from 1 moniter tocoulombs coulombs per second\n",
    "        \"\"\"\n",
    "        return Convert.to_protons(blm_data, x, calibration_curve)* scipy.constants.e\n",
    "\n",
    "    @staticmethod\n",
    "    def to_joules(blm_data, x, calibration_curve, blm_index):\n",
    "        \"\"\"\n",
    "        Convert the raw blm signal from 1 moniter tocoulombs joules per second\n",
    "        \"\"\"\n",
    "        return Convert.to_protons(blm_data, x, calibration_curve)*blm_data[:2198]\n",
    "\n",
    "blm_data,time = get_test_data()\n",
    "plt.plot(Convert.to_protons(blm_data[1], time, calibration_curve))"
   ]
  },
  {
   "cell_type": "code",
   "execution_count": null,
   "id": "0343fd0c-c5e1-4c7e-8da4-607977b408be",
   "metadata": {},
   "outputs": [],
   "source": []
  },
  {
   "cell_type": "code",
   "execution_count": null,
   "id": "c4917279-694e-4dc6-84d2-e998bdb44eff",
   "metadata": {},
   "outputs": [],
   "source": []
  }
 ],
 "metadata": {
  "kernelspec": {
   "display_name": "Python 3 (ipykernel)",
   "language": "python",
   "name": "python3"
  },
  "language_info": {
   "codemirror_mode": {
    "name": "ipython",
    "version": 3
   },
   "file_extension": ".py",
   "mimetype": "text/x-python",
   "name": "python",
   "nbconvert_exporter": "python",
   "pygments_lexer": "ipython3",
   "version": "3.10.9"
  }
 },
 "nbformat": 4,
 "nbformat_minor": 5
}
